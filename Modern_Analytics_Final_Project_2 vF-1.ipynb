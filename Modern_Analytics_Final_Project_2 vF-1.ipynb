{
  "nbformat": 4,
  "nbformat_minor": 0,
  "metadata": {
    "colab": {
      "provenance": [],
      "gpuType": "T4"
    },
    "kernelspec": {
      "name": "python3",
      "display_name": "Python 3"
    },
    "language_info": {
      "name": "python"
    },
    "accelerator": "GPU"
  },
  "cells": [
    {
      "cell_type": "markdown",
      "source": [
        "*Importing* liberaries"
      ],
      "metadata": {
        "id": "UnMoY8Ngvq3e"
      }
    },
    {
      "cell_type": "code",
      "execution_count": 1,
      "metadata": {
        "id": "rPsFPn84vm_2"
      },
      "outputs": [],
      "source": [
        "import torch\n",
        "from torch import nn\n",
        "from torch.optim import Adam\n",
        "from sklearn.model_selection import train_test_split\n",
        "from sklearn.preprocessing import StandardScaler, MultiLabelBinarizer\n",
        "import pandas as pd\n",
        "from scipy.sparse import hstack\n",
        "import gensim.downloader as api\n",
        "import numpy as np"
      ]
    },
    {
      "cell_type": "markdown",
      "source": [
        "Loading pre trained word2vec"
      ],
      "metadata": {
        "id": "z5rg7Tkkv0XT"
      }
    },
    {
      "cell_type": "code",
      "source": [
        "import os\n",
        "import gensim.downloader as api\n",
        "\n",
        "model_name = 'word2vec-google-news-300'\n",
        "\n",
        "# Check if the model is already downloaded\n",
        "try:\n",
        "    word2vec_model = api.load(model_name)\n",
        "    print(\"Loaded the existing model.\")\n",
        "except KeyError:\n",
        "    # If model is not found, it will download\n",
        "    word2vec_model = api.load(model_name)\n",
        "    print(\"Model was not found locally. Downloading now.\")\n"
      ],
      "metadata": {
        "id": "9LYRUjbIv048",
        "colab": {
          "base_uri": "https://localhost:8080/"
        },
        "outputId": "a587c0c6-2152-48b0-f846-fb0e487a9814"
      },
      "execution_count": 2,
      "outputs": [
        {
          "output_type": "stream",
          "name": "stdout",
          "text": [
            "[==================================================] 100.0% 1662.8/1662.8MB downloaded\n",
            "Loaded the existing model.\n"
          ]
        }
      ]
    },
    {
      "cell_type": "markdown",
      "source": [
        "*Preprocessing* data"
      ],
      "metadata": {
        "id": "hryVZEVUv5RS"
      }
    },
    {
      "cell_type": "code",
      "source": [
        "# Load the dataset and skip any bad lines\n",
        "movie_data = pd.read_csv('movie_meta_data.csv', on_bad_lines='skip')\n",
        "\n",
        "# Fill missing values for text columns with empty strings and for numerical columns with the median\n",
        "movie_data['plot'] = movie_data['plot'].fillna('')\n",
        "movie_data['keywords'] = movie_data['keywords'].fillna('')\n",
        "movie_data['genres'] = movie_data['genres'].fillna('')\n",
        "movie_data['producers'] = movie_data['producers'].fillna('')\n",
        "movie_data['directors'] = movie_data['directors'].fillna('')\n",
        "movie_data['casting directors'] = movie_data['casting directors'].fillna('')\n",
        "movie_data['taglines'] = movie_data['taglines'].fillna('')\n",
        "movie_data['countries'] = movie_data['countries'].fillna('')\n",
        "movie_data['year'] = movie_data['year'].fillna(movie_data['year'].median())"
      ],
      "metadata": {
        "id": "cpWhwRqWv9GS"
      },
      "execution_count": 3,
      "outputs": []
    },
    {
      "cell_type": "markdown",
      "source": [
        "Exploratory Data Analytics"
      ],
      "metadata": {
        "id": "ONT9YbKV0qsQ"
      }
    },
    {
      "cell_type": "code",
      "source": [
        "import matplotlib.pyplot as plt\n",
        "import seaborn as sns\n",
        "import numpy as np\n",
        "\n",
        "# 1. Basic statistics for numerical features\n",
        "numerical_columns = ['year', 'metascore', 'imdb user rating', 'number of imdb user votes']\n",
        "summary_stats = movie_data[numerical_columns].describe()\n",
        "print(summary_stats)"
      ],
      "metadata": {
        "id": "cHQP6mNH0pqy",
        "colab": {
          "base_uri": "https://localhost:8080/"
        },
        "outputId": "e6062ca4-194c-41de-f2c4-9be07234d1a9"
      },
      "execution_count": 4,
      "outputs": [
        {
          "output_type": "stream",
          "name": "stdout",
          "text": [
            "              year    metascore  imdb user rating  number of imdb user votes\n",
            "count  2858.000000  2858.000000       2858.000000               2.858000e+03\n",
            "mean   1986.665150    44.815605          5.856543               1.392193e+05\n",
            "std     154.879642    32.738149          2.190857               2.283760e+05\n",
            "min      -1.000000    -1.000000         -1.000000              -1.000000e+00\n",
            "25%    1992.000000    -1.000000          6.000000               7.400000e+03\n",
            "50%    2003.000000    54.000000          6.000000               5.436900e+04\n",
            "75%    2011.000000    71.000000          7.000000               1.689790e+05\n",
            "max    2021.000000   100.000000          9.000000               2.312225e+06\n"
          ]
        }
      ]
    },
    {
      "cell_type": "markdown",
      "source": [
        "Correlation heatmap\n"
      ],
      "metadata": {
        "id": "iRdUhaI304bQ"
      }
    },
    {
      "cell_type": "code",
      "source": [
        "correlation_matrix = movie_data[numerical_columns].corr()\n",
        "plt.figure(figsize=(8, 6))\n",
        "sns.heatmap(correlation_matrix, annot=True, cmap='coolwarm', fmt='.2f', cbar=True)\n",
        "plt.title('Correlation Heatmap')\n",
        "plt.show()"
      ],
      "metadata": {
        "id": "tE3vdT5f0yQ5",
        "colab": {
          "base_uri": "https://localhost:8080/",
          "height": 719
        },
        "outputId": "f1a824b3-9092-4d9a-d921-78ad6df9cd3e"
      },
      "execution_count": 5,
      "outputs": [
        {
          "output_type": "display_data",
          "data": {
            "text/plain": [
              "<Figure size 800x600 with 2 Axes>"
            ],
            "image/png": "[encoded data removed]"
          },
          "metadata": {}
        }
      ]
    },
    {
      "cell_type": "markdown",
      "source": [
        "Distribution of genres (this is a sample for categorical columns)\n"
      ],
      "metadata": {
        "id": "aTYxFrit1HVh"
      }
    },
    {
      "cell_type": "code",
      "source": [
        "# Let's plot the top 10 most common genres\n",
        "top_genres = movie_data['genres'].str.split(',', expand=True).stack().value_counts().head(10)\n",
        "plt.figure(figsize=(10, 6))\n",
        "top_genres.plot(kind='bar', color='lightcoral')\n",
        "plt.title('Top 10 Most Common Genres')\n",
        "plt.xlabel('Genre')\n",
        "plt.ylabel('Frequency')\n",
        "plt.xticks(rotation=45)\n",
        "plt.show()"
      ],
      "metadata": {
        "id": "akfsYsoo1ED6",
        "colab": {
          "base_uri": "https://localhost:8080/",
          "height": 614
        },
        "outputId": "45cd5f62-6098-4aad-9245-3421fe7ce98b"
      },
      "execution_count": 6,
      "outputs": [
        {
          "output_type": "display_data",
          "data": {
            "text/plain": [
              "<Figure size 1000x600 with 1 Axes>"
            ],
            "image/png": "[encoded data removed]"
          },
          "metadata": {}
        }
      ]
    },
    {
      "cell_type": "markdown",
      "source": [
        "Using linear regression as a base model"
      ],
      "metadata": {
        "id": "unAL87r54T4J"
      }
    },
    {
      "cell_type": "code",
      "source": [
        "from sklearn.model_selection import train_test_split\n",
        "from sklearn.feature_extraction.text import TfidfVectorizer\n",
        "from sklearn.preprocessing import LabelEncoder\n",
        "from sklearn.metrics import mean_squared_error\n",
        "file_path = 'movie_meta_data.csv'\n",
        "movie_data_lr = pd.read_csv(file_path)\n",
        "\n",
        "movie_data_lr = movie_data_lr.dropna(subset=['plot', 'genres', 'directors', 'casting directors', 'keywords', 'imdb user rating'])"
      ],
      "metadata": {
        "id": "DBG1uURL42jB"
      },
      "execution_count": 7,
      "outputs": []
    },
    {
      "cell_type": "code",
      "source": [
        "\n",
        "X = movie_data_lr[['plot', 'genres', 'directors', 'casting directors', 'keywords']]\n",
        "y = movie_data_lr['imdb user rating']\n",
        "\n",
        "tfidf_vectorizer = TfidfVectorizer(stop_words='english', max_features=500)\n",
        "X_plot = tfidf_vectorizer.fit_transform(X['plot']).toarray()\n",
        "X_keywords = tfidf_vectorizer.fit_transform(X['keywords']).toarray()\n",
        "\n",
        "label_encoder = LabelEncoder()\n",
        "\n",
        "X_genre = X['genres'].str.split(',').apply(lambda x: ', '.join(x)).values\n",
        "X_genre_encoded = label_encoder.fit_transform(X_genre)\n",
        "\n",
        "X_directors = label_encoder.fit_transform(X['directors'])\n",
        "X_casting_directors = label_encoder.fit_transform(X['casting directors'])\n",
        "\n",
        "X_combined = np.hstack([X_plot, X_keywords, X_genre_encoded.reshape(-1, 1), X_directors.reshape(-1, 1), X_casting_directors.reshape(-1, 1)])\n",
        "\n",
        "X_train, X_temp, y_train, y_temp = train_test_split(X_combined, y, test_size=0.4, random_state=42)\n",
        "X_val, X_test, y_val, y_test = train_test_split(X_temp, y_temp, test_size=0.5, random_state=42)\n",
        "\n",
        "X_train_tensor = torch.tensor(X_train, dtype=torch.float32)\n",
        "X_val_tensor = torch.tensor(X_val, dtype=torch.float32)\n",
        "X_test_tensor = torch.tensor(X_test, dtype=torch.float32)\n",
        "y_train_tensor = torch.tensor(y_train.values, dtype=torch.float32).view(-1, 1)\n",
        "y_val_tensor = torch.tensor(y_val.values, dtype=torch.float32).view(-1, 1)\n",
        "y_test_tensor = torch.tensor(y_test.values, dtype=torch.float32).view(-1, 1)\n"
      ],
      "metadata": {
        "id": "48FJ73dm44Dp"
      },
      "execution_count": 8,
      "outputs": []
    },
    {
      "cell_type": "code",
      "source": [
        "model = torch.nn.Linear(X_train.shape[1], 1)\n",
        "\n",
        "criterion = torch.nn.MSELoss()\n",
        "optimizer = torch.optim.Adam(model.parameters(), lr=0.001)\n",
        "\n",
        "num_epochs = 300\n",
        "train_losses = []\n",
        "val_losses = []\n",
        "train_mer = []\n",
        "val_mer = []\n",
        "\n",
        "for epoch in range(num_epochs):\n",
        "    model.train()\n",
        "    optimizer.zero_grad()\n",
        "    y_train_pred = model(X_train_tensor)\n",
        "    train_loss = criterion(y_train_pred, y_train_tensor)\n",
        "    train_loss.backward()\n",
        "    optimizer.step()\n",
        "\n",
        "    train_abs_error = torch.abs(y_train_pred - y_train_tensor)\n",
        "    train_med_er = torch.median(train_abs_error)\n",
        "\n",
        "    model.eval()\n",
        "    with torch.no_grad():\n",
        "        y_val_pred = model(X_val_tensor)\n",
        "        val_loss = criterion(y_val_pred, y_val_tensor)\n",
        "\n",
        "        val_abs_error = torch.abs(y_val_pred - y_val_tensor)\n",
        "        val_med_er = torch.median(val_abs_error)\n",
        "\n",
        "    train_losses.append(train_loss.item())\n",
        "    val_losses.append(val_loss.item())\n",
        "    train_mer.append(train_med_er.item())\n",
        "    val_mer.append(val_med_er.item())\n",
        "\n",
        "    print(f\"Epoch [{epoch+1}/{num_epochs}], Train Loss: {train_loss.item():.4f}, Train MedER: {train_med_er.item():.4f}, \"\n",
        "          f\"Validation Loss: {val_loss.item():.4f}, Validation MedER: {val_med_er.item():.4f}\")"
      ],
      "metadata": {
        "id": "W3hkEBEf5Ir6",
        "colab": {
          "base_uri": "https://localhost:8080/"
        },
        "outputId": "baa7675b-1e87-4df8-a1a3-742cb676e405"
      },
      "execution_count": 9,
      "outputs": [
        {
          "output_type": "stream",
          "name": "stdout",
          "text": [
            "Epoch [1/300], Train Loss: 193.6783, Train MedER: 12.4429, Validation Loss: 152.0733, Validation MedER: 10.8981\n",
            "Epoch [2/300], Train Loss: 156.1215, Train MedER: 11.1120, Validation Loss: 119.7691, Validation MedER: 9.5005\n",
            "Epoch [3/300], Train Loss: 122.9316, Train MedER: 9.7332, Validation Loss: 91.7664, Validation MedER: 8.0446\n",
            "Epoch [4/300], Train Loss: 94.1568, Train MedER: 8.3910, Validation Loss: 68.0672, Validation MedER: 6.8759\n",
            "Epoch [5/300], Train Loss: 69.7995, Train MedER: 7.0208, Validation Loss: 48.6166, Validation MedER: 5.5730\n",
            "Epoch [6/300], Train Loss: 49.8035, Train MedER: 5.7154, Validation Loss: 33.2889, Validation MedER: 4.3680\n",
            "Epoch [7/300], Train Loss: 34.0403, Train MedER: 4.4637, Validation Loss: 21.8747, Validation MedER: 3.3389\n",
            "Epoch [8/300], Train Loss: 22.2950, Train MedER: 3.3698, Validation Loss: 14.0692, Validation MedER: 2.6201\n",
            "Epoch [9/300], Train Loss: 14.2549, Train MedER: 2.5825, Validation Loss: 9.4670, Validation MedER: 2.1897\n",
            "Epoch [10/300], Train Loss: 9.5041, Train MedER: 2.0891, Validation Loss: 7.5667, Validation MedER: 1.9679\n",
            "Epoch [11/300], Train Loss: 7.5278, Train MedER: 1.8138, Validation Loss: 7.7883, Validation MedER: 1.7534\n",
            "Epoch [12/300], Train Loss: 7.7307, Train MedER: 1.8600, Validation Loss: 9.5064, Validation MedER: 2.0343\n",
            "Epoch [13/300], Train Loss: 9.4708, Train MedER: 2.1809, Validation Loss: 12.0945, Validation MedER: 2.3143\n",
            "Epoch [14/300], Train Loss: 12.1051, Train MedER: 2.5985, Validation Loss: 14.9753, Validation MedER: 2.7301\n",
            "Epoch [15/300], Train Loss: 15.0412, Train MedER: 3.1185, Validation Loss: 17.6646, Validation MedER: 3.1756\n",
            "Epoch [16/300], Train Loss: 17.7828, Train MedER: 3.5562, Validation Loss: 19.8031, Validation MedER: 3.5137\n",
            "Epoch [17/300], Train Loss: 19.9617, Train MedER: 3.8488, Validation Loss: 21.1683, Validation MedER: 3.7169\n",
            "Epoch [18/300], Train Loss: 21.3507, Train MedER: 4.0222, Validation Loss: 21.6698, Validation MedER: 3.8172\n",
            "Epoch [19/300], Train Loss: 21.8577, Train MedER: 4.0925, Validation Loss: 21.3300, Validation MedER: 3.7769\n",
            "Epoch [20/300], Train Loss: 21.5067, Train MedER: 4.0722, Validation Loss: 20.2576, Validation MedER: 3.6298\n",
            "Epoch [21/300], Train Loss: 20.4102, Train MedER: 3.9860, Validation Loss: 18.6186, Validation MedER: 3.4187\n",
            "Epoch [22/300], Train Loss: 18.7390, Train MedER: 3.7903, Validation Loss: 16.6085, Validation MedER: 3.1420\n",
            "Epoch [23/300], Train Loss: 16.6941, Train MedER: 3.5243, Validation Loss: 14.4282, Validation MedER: 2.7779\n",
            "Epoch [24/300], Train Loss: 14.4817, Train MedER: 3.1609, Validation Loss: 12.2643, Validation MedER: 2.4326\n",
            "Epoch [25/300], Train Loss: 12.2930, Train MedER: 2.7963, Validation Loss: 10.2745, Validation MedER: 2.2198\n",
            "Epoch [26/300], Train Loss: 10.2894, Train MedER: 2.4106, Validation Loss: 8.5778, Validation MedER: 1.9420\n",
            "Epoch [27/300], Train Loss: 8.5922, Train MedER: 2.0611, Validation Loss: 7.2491, Validation MedER: 1.6784\n",
            "Epoch [28/300], Train Loss: 7.2772, Train MedER: 1.8748, Validation Loss: 6.3184, Validation MedER: 1.6629\n",
            "Epoch [29/300], Train Loss: 6.3741, Train MedER: 1.6807, Validation Loss: 5.7743, Validation MedER: 1.5908\n",
            "Epoch [30/300], Train Loss: 5.8696, Train MedER: 1.5799, Validation Loss: 5.5703, Validation MedER: 1.6169\n",
            "Epoch [31/300], Train Loss: 5.7146, Train MedER: 1.5851, Validation Loss: 5.6344, Validation MedER: 1.6670\n",
            "Epoch [32/300], Train Loss: 5.8336, Train MedER: 1.5916, Validation Loss: 5.8797, Validation MedER: 1.7411\n",
            "Epoch [33/300], Train Loss: 6.1361, Train MedER: 1.6305, Validation Loss: 6.2159, Validation MedER: 1.7832\n",
            "Epoch [34/300], Train Loss: 6.5278, Train MedER: 1.6902, Validation Loss: 6.5596, Validation MedER: 1.8270\n",
            "Epoch [35/300], Train Loss: 6.9218, Train MedER: 1.7618, Validation Loss: 6.8423, Validation MedER: 1.7844\n",
            "Epoch [36/300], Train Loss: 7.2468, Train MedER: 1.8310, Validation Loss: 7.0160, Validation MedER: 1.7866\n",
            "Epoch [37/300], Train Loss: 7.4527, Train MedER: 1.8260, Validation Loss: 7.0555, Validation MedER: 1.8137\n",
            "Epoch [38/300], Train Loss: 7.5132, Train MedER: 1.8281, Validation Loss: 6.9577, Validation MedER: 1.7982\n",
            "Epoch [39/300], Train Loss: 7.4249, Train MedER: 1.8278, Validation Loss: 6.7385, Validation MedER: 1.7383\n",
            "Epoch [40/300], Train Loss: 7.2040, Train MedER: 1.7930, Validation Loss: 6.4276, Validation MedER: 1.6532\n",
            "Epoch [41/300], Train Loss: 6.8815, Train MedER: 1.7815, Validation Loss: 6.0630, Validation MedER: 1.6595\n",
            "Epoch [42/300], Train Loss: 6.4969, Train MedER: 1.7394, Validation Loss: 5.6846, Validation MedER: 1.7085\n",
            "Epoch [43/300], Train Loss: 6.0921, Train MedER: 1.6546, Validation Loss: 5.3293, Validation MedER: 1.6457\n",
            "Epoch [44/300], Train Loss: 5.7060, Train MedER: 1.5755, Validation Loss: 5.0266, Validation MedER: 1.6197\n",
            "Epoch [45/300], Train Loss: 5.3700, Train MedER: 1.5253, Validation Loss: 4.7959, Validation MedER: 1.5609\n",
            "Epoch [46/300], Train Loss: 5.1053, Train MedER: 1.4567, Validation Loss: 4.6455, Validation MedER: 1.5395\n",
            "Epoch [47/300], Train Loss: 4.9216, Train MedER: 1.4427, Validation Loss: 4.5731, Validation MedER: 1.5467\n",
            "Epoch [48/300], Train Loss: 4.8179, Train MedER: 1.4603, Validation Loss: 4.5673, Validation MedER: 1.4715\n",
            "Epoch [49/300], Train Loss: 4.7837, Train MedER: 1.4433, Validation Loss: 4.6104, Validation MedER: 1.4468\n",
            "Epoch [50/300], Train Loss: 4.8021, Train MedER: 1.4681, Validation Loss: 4.6818, Validation MedER: 1.4194\n",
            "Epoch [51/300], Train Loss: 4.8526, Train MedER: 1.4806, Validation Loss: 4.7604, Validation MedER: 1.4688\n",
            "Epoch [52/300], Train Loss: 4.9145, Train MedER: 1.4897, Validation Loss: 4.8278, Validation MedER: 1.5213\n",
            "Epoch [53/300], Train Loss: 4.9696, Train MedER: 1.5089, Validation Loss: 4.8704, Validation MedER: 1.5491\n",
            "Epoch [54/300], Train Loss: 5.0041, Train MedER: 1.5330, Validation Loss: 4.8800, Validation MedER: 1.5578\n",
            "Epoch [55/300], Train Loss: 5.0101, Train MedER: 1.5374, Validation Loss: 4.8544, Validation MedER: 1.5438\n",
            "Epoch [56/300], Train Loss: 4.9851, Train MedER: 1.5256, Validation Loss: 4.7967, Validation MedER: 1.5348\n",
            "Epoch [57/300], Train Loss: 4.9319, Train MedER: 1.5213, Validation Loss: 4.7138, Validation MedER: 1.4929\n",
            "Epoch [58/300], Train Loss: 4.8575, Train MedER: 1.4884, Validation Loss: 4.6152, Validation MedER: 1.4805\n",
            "Epoch [59/300], Train Loss: 4.7708, Train MedER: 1.4814, Validation Loss: 4.5110, Validation MedER: 1.4574\n",
            "Epoch [60/300], Train Loss: 4.6816, Train MedER: 1.4532, Validation Loss: 4.4106, Validation MedER: 1.4385\n",
            "Epoch [61/300], Train Loss: 4.5986, Train MedER: 1.4320, Validation Loss: 4.3215, Validation MedER: 1.4183\n",
            "Epoch [62/300], Train Loss: 4.5286, Train MedER: 1.4022, Validation Loss: 4.2483, Validation MedER: 1.4596\n",
            "Epoch [63/300], Train Loss: 4.4758, Train MedER: 1.3969, Validation Loss: 4.1931, Validation MedER: 1.4502\n",
            "Epoch [64/300], Train Loss: 4.4410, Train MedER: 1.4235, Validation Loss: 4.1552, Validation MedER: 1.4785\n",
            "Epoch [65/300], Train Loss: 4.4230, Train MedER: 1.4268, Validation Loss: 4.1318, Validation MedER: 1.4599\n",
            "Epoch [66/300], Train Loss: 4.4181, Train MedER: 1.4356, Validation Loss: 4.1190, Validation MedER: 1.4423\n",
            "Epoch [67/300], Train Loss: 4.4217, Train MedER: 1.4128, Validation Loss: 4.1123, Validation MedER: 1.4078\n",
            "Epoch [68/300], Train Loss: 4.4287, Train MedER: 1.4188, Validation Loss: 4.1078, Validation MedER: 1.4174\n",
            "Epoch [69/300], Train Loss: 4.4347, Train MedER: 1.4047, Validation Loss: 4.1023, Validation MedER: 1.4074\n",
            "Epoch [70/300], Train Loss: 4.4362, Train MedER: 1.4067, Validation Loss: 4.0938, Validation MedER: 1.4054\n",
            "Epoch [71/300], Train Loss: 4.4314, Train MedER: 1.4129, Validation Loss: 4.0818, Validation MedER: 1.4081\n",
            "Epoch [72/300], Train Loss: 4.4197, Train MedER: 1.4032, Validation Loss: 4.0669, Validation MedER: 1.4072\n",
            "Epoch [73/300], Train Loss: 4.4019, Train MedER: 1.4052, Validation Loss: 4.0505, Validation MedER: 1.4207\n",
            "Epoch [74/300], Train Loss: 4.3799, Train MedER: 1.4100, Validation Loss: 4.0343, Validation MedER: 1.4420\n",
            "Epoch [75/300], Train Loss: 4.3559, Train MedER: 1.4084, Validation Loss: 4.0200, Validation MedER: 1.4663\n",
            "Epoch [76/300], Train Loss: 4.3322, Train MedER: 1.4038, Validation Loss: 4.0092, Validation MedER: 1.4816\n",
            "Epoch [77/300], Train Loss: 4.3109, Train MedER: 1.4038, Validation Loss: 4.0025, Validation MedER: 1.5121\n",
            "Epoch [78/300], Train Loss: 4.2932, Train MedER: 1.3779, Validation Loss: 4.0000, Validation MedER: 1.5155\n",
            "Epoch [79/300], Train Loss: 4.2798, Train MedER: 1.3875, Validation Loss: 4.0011, Validation MedER: 1.5027\n",
            "Epoch [80/300], Train Loss: 4.2705, Train MedER: 1.3919, Validation Loss: 4.0046, Validation MedER: 1.5017\n",
            "Epoch [81/300], Train Loss: 4.2646, Train MedER: 1.3933, Validation Loss: 4.0091, Validation MedER: 1.4960\n",
            "Epoch [82/300], Train Loss: 4.2610, Train MedER: 1.3862, Validation Loss: 4.0131, Validation MedER: 1.4653\n",
            "Epoch [83/300], Train Loss: 4.2584, Train MedER: 1.3951, Validation Loss: 4.0154, Validation MedER: 1.4710\n",
            "Epoch [84/300], Train Loss: 4.2558, Train MedER: 1.3947, Validation Loss: 4.0149, Validation MedER: 1.4570\n",
            "Epoch [85/300], Train Loss: 4.2521, Train MedER: 1.4030, Validation Loss: 4.0112, Validation MedER: 1.4502\n",
            "Epoch [86/300], Train Loss: 4.2469, Train MedER: 1.3994, Validation Loss: 4.0042, Validation MedER: 1.4486\n",
            "Epoch [87/300], Train Loss: 4.2401, Train MedER: 1.3925, Validation Loss: 3.9943, Validation MedER: 1.4540\n",
            "Epoch [88/300], Train Loss: 4.2319, Train MedER: 1.3911, Validation Loss: 3.9822, Validation MedER: 1.4658\n",
            "Epoch [89/300], Train Loss: 4.2228, Train MedER: 1.3886, Validation Loss: 3.9687, Validation MedER: 1.4797\n",
            "Epoch [90/300], Train Loss: 4.2133, Train MedER: 1.3881, Validation Loss: 3.9547, Validation MedER: 1.4839\n",
            "Epoch [91/300], Train Loss: 4.2041, Train MedER: 1.3971, Validation Loss: 3.9410, Validation MedER: 1.4777\n",
            "Epoch [92/300], Train Loss: 4.1955, Train MedER: 1.3961, Validation Loss: 3.9281, Validation MedER: 1.4755\n",
            "Epoch [93/300], Train Loss: 4.1880, Train MedER: 1.3852, Validation Loss: 3.9164, Validation MedER: 1.4629\n",
            "Epoch [94/300], Train Loss: 4.1814, Train MedER: 1.3826, Validation Loss: 3.9060, Validation MedER: 1.4657\n",
            "Epoch [95/300], Train Loss: 4.1759, Train MedER: 1.3775, Validation Loss: 3.8969, Validation MedER: 1.4551\n",
            "Epoch [96/300], Train Loss: 4.1710, Train MedER: 1.3692, Validation Loss: 3.8890, Validation MedER: 1.4532\n",
            "Epoch [97/300], Train Loss: 4.1666, Train MedER: 1.3634, Validation Loss: 3.8821, Validation MedER: 1.4534\n",
            "Epoch [98/300], Train Loss: 4.1622, Train MedER: 1.3678, Validation Loss: 3.8761, Validation MedER: 1.4523\n",
            "Epoch [99/300], Train Loss: 4.1577, Train MedER: 1.3632, Validation Loss: 3.8706, Validation MedER: 1.4533\n",
            "Epoch [100/300], Train Loss: 4.1528, Train MedER: 1.3556, Validation Loss: 3.8657, Validation MedER: 1.4479\n",
            "Epoch [101/300], Train Loss: 4.1475, Train MedER: 1.3552, Validation Loss: 3.8613, Validation MedER: 1.4396\n",
            "Epoch [102/300], Train Loss: 4.1418, Train MedER: 1.3562, Validation Loss: 3.8574, Validation MedER: 1.4418\n",
            "Epoch [103/300], Train Loss: 4.1359, Train MedER: 1.3613, Validation Loss: 3.8540, Validation MedER: 1.4435\n",
            "Epoch [104/300], Train Loss: 4.1298, Train MedER: 1.3613, Validation Loss: 3.8511, Validation MedER: 1.4376\n",
            "Epoch [105/300], Train Loss: 4.1238, Train MedER: 1.3682, Validation Loss: 3.8486, Validation MedER: 1.4451\n",
            "Epoch [106/300], Train Loss: 4.1180, Train MedER: 1.3674, Validation Loss: 3.8464, Validation MedER: 1.4432\n",
            "Epoch [107/300], Train Loss: 4.1124, Train MedER: 1.3717, Validation Loss: 3.8444, Validation MedER: 1.4383\n",
            "Epoch [108/300], Train Loss: 4.1071, Train MedER: 1.3696, Validation Loss: 3.8424, Validation MedER: 1.4487\n",
            "Epoch [109/300], Train Loss: 4.1020, Train MedER: 1.3681, Validation Loss: 3.8402, Validation MedER: 1.4427\n",
            "Epoch [110/300], Train Loss: 4.0971, Train MedER: 1.3713, Validation Loss: 3.8377, Validation MedER: 1.4458\n",
            "Epoch [111/300], Train Loss: 4.0922, Train MedER: 1.3691, Validation Loss: 3.8347, Validation MedER: 1.4471\n",
            "Epoch [112/300], Train Loss: 4.0874, Train MedER: 1.3679, Validation Loss: 3.8312, Validation MedER: 1.4464\n",
            "Epoch [113/300], Train Loss: 4.0825, Train MedER: 1.3683, Validation Loss: 3.8271, Validation MedER: 1.4484\n",
            "Epoch [114/300], Train Loss: 4.0775, Train MedER: 1.3650, Validation Loss: 3.8223, Validation MedER: 1.4493\n",
            "Epoch [115/300], Train Loss: 4.0724, Train MedER: 1.3635, Validation Loss: 3.8171, Validation MedER: 1.4485\n",
            "Epoch [116/300], Train Loss: 4.0672, Train MedER: 1.3615, Validation Loss: 3.8114, Validation MedER: 1.4463\n",
            "Epoch [117/300], Train Loss: 4.0619, Train MedER: 1.3608, Validation Loss: 3.8055, Validation MedER: 1.4431\n",
            "Epoch [118/300], Train Loss: 4.0566, Train MedER: 1.3561, Validation Loss: 3.7994, Validation MedER: 1.4392\n",
            "Epoch [119/300], Train Loss: 4.0513, Train MedER: 1.3553, Validation Loss: 3.7933, Validation MedER: 1.4349\n",
            "Epoch [120/300], Train Loss: 4.0461, Train MedER: 1.3537, Validation Loss: 3.7872, Validation MedER: 1.4272\n",
            "Epoch [121/300], Train Loss: 4.0409, Train MedER: 1.3519, Validation Loss: 3.7813, Validation MedER: 1.4263\n",
            "Epoch [122/300], Train Loss: 4.0358, Train MedER: 1.3533, Validation Loss: 3.7756, Validation MedER: 1.4226\n",
            "Epoch [123/300], Train Loss: 4.0308, Train MedER: 1.3540, Validation Loss: 3.7701, Validation MedER: 1.4196\n",
            "Epoch [124/300], Train Loss: 4.0257, Train MedER: 1.3544, Validation Loss: 3.7649, Validation MedER: 1.4174\n",
            "Epoch [125/300], Train Loss: 4.0207, Train MedER: 1.3564, Validation Loss: 3.7599, Validation MedER: 1.4161\n",
            "Epoch [126/300], Train Loss: 4.0157, Train MedER: 1.3572, Validation Loss: 3.7552, Validation MedER: 1.4159\n",
            "Epoch [127/300], Train Loss: 4.0106, Train MedER: 1.3566, Validation Loss: 3.7508, Validation MedER: 1.4162\n",
            "Epoch [128/300], Train Loss: 4.0054, Train MedER: 1.3556, Validation Loss: 3.7465, Validation MedER: 1.4175\n",
            "Epoch [129/300], Train Loss: 4.0003, Train MedER: 1.3538, Validation Loss: 3.7424, Validation MedER: 1.4194\n",
            "Epoch [130/300], Train Loss: 3.9951, Train MedER: 1.3553, Validation Loss: 3.7384, Validation MedER: 1.4219\n",
            "Epoch [131/300], Train Loss: 3.9899, Train MedER: 1.3552, Validation Loss: 3.7346, Validation MedER: 1.4198\n",
            "Epoch [132/300], Train Loss: 3.9847, Train MedER: 1.3531, Validation Loss: 3.7308, Validation MedER: 1.4139\n",
            "Epoch [133/300], Train Loss: 3.9795, Train MedER: 1.3493, Validation Loss: 3.7271, Validation MedER: 1.4080\n",
            "Epoch [134/300], Train Loss: 3.9743, Train MedER: 1.3482, Validation Loss: 3.7233, Validation MedER: 1.4023\n",
            "Epoch [135/300], Train Loss: 3.9692, Train MedER: 1.3493, Validation Loss: 3.7194, Validation MedER: 1.3970\n",
            "Epoch [136/300], Train Loss: 3.9640, Train MedER: 1.3494, Validation Loss: 3.7154, Validation MedER: 1.3922\n",
            "Epoch [137/300], Train Loss: 3.9589, Train MedER: 1.3468, Validation Loss: 3.7113, Validation MedER: 1.3881\n",
            "Epoch [138/300], Train Loss: 3.9537, Train MedER: 1.3449, Validation Loss: 3.7071, Validation MedER: 1.3851\n",
            "Epoch [139/300], Train Loss: 3.9485, Train MedER: 1.3437, Validation Loss: 3.7026, Validation MedER: 1.3859\n",
            "Epoch [140/300], Train Loss: 3.9433, Train MedER: 1.3433, Validation Loss: 3.6981, Validation MedER: 1.3862\n",
            "Epoch [141/300], Train Loss: 3.9381, Train MedER: 1.3435, Validation Loss: 3.6934, Validation MedER: 1.3860\n",
            "Epoch [142/300], Train Loss: 3.9329, Train MedER: 1.3434, Validation Loss: 3.6885, Validation MedER: 1.3855\n",
            "Epoch [143/300], Train Loss: 3.9277, Train MedER: 1.3436, Validation Loss: 3.6836, Validation MedER: 1.3847\n",
            "Epoch [144/300], Train Loss: 3.9224, Train MedER: 1.3437, Validation Loss: 3.6787, Validation MedER: 1.3836\n",
            "Epoch [145/300], Train Loss: 3.9172, Train MedER: 1.3416, Validation Loss: 3.6737, Validation MedER: 1.3855\n",
            "Epoch [146/300], Train Loss: 3.9119, Train MedER: 1.3394, Validation Loss: 3.6688, Validation MedER: 1.3875\n",
            "Epoch [147/300], Train Loss: 3.9067, Train MedER: 1.3371, Validation Loss: 3.6638, Validation MedER: 1.3895\n",
            "Epoch [148/300], Train Loss: 3.9015, Train MedER: 1.3371, Validation Loss: 3.6589, Validation MedER: 1.3912\n",
            "Epoch [149/300], Train Loss: 3.8962, Train MedER: 1.3382, Validation Loss: 3.6541, Validation MedER: 1.3926\n",
            "Epoch [150/300], Train Loss: 3.8910, Train MedER: 1.3362, Validation Loss: 3.6494, Validation MedER: 1.3934\n",
            "Epoch [151/300], Train Loss: 3.8857, Train MedER: 1.3341, Validation Loss: 3.6447, Validation MedER: 1.3933\n",
            "Epoch [152/300], Train Loss: 3.8804, Train MedER: 1.3324, Validation Loss: 3.6401, Validation MedER: 1.3941\n",
            "Epoch [153/300], Train Loss: 3.8752, Train MedER: 1.3319, Validation Loss: 3.6355, Validation MedER: 1.3942\n",
            "Epoch [154/300], Train Loss: 3.8699, Train MedER: 1.3341, Validation Loss: 3.6310, Validation MedER: 1.3938\n",
            "Epoch [155/300], Train Loss: 3.8646, Train MedER: 1.3330, Validation Loss: 3.6266, Validation MedER: 1.3930\n",
            "Epoch [156/300], Train Loss: 3.8593, Train MedER: 1.3319, Validation Loss: 3.6222, Validation MedER: 1.3921\n",
            "Epoch [157/300], Train Loss: 3.8540, Train MedER: 1.3308, Validation Loss: 3.6178, Validation MedER: 1.3911\n",
            "Epoch [158/300], Train Loss: 3.8487, Train MedER: 1.3299, Validation Loss: 3.6134, Validation MedER: 1.3901\n",
            "Epoch [159/300], Train Loss: 3.8434, Train MedER: 1.3290, Validation Loss: 3.6090, Validation MedER: 1.3892\n",
            "Epoch [160/300], Train Loss: 3.8381, Train MedER: 1.3275, Validation Loss: 3.6046, Validation MedER: 1.3884\n",
            "Epoch [161/300], Train Loss: 3.8328, Train MedER: 1.3270, Validation Loss: 3.6001, Validation MedER: 1.3877\n",
            "Epoch [162/300], Train Loss: 3.8275, Train MedER: 1.3258, Validation Loss: 3.5956, Validation MedER: 1.3873\n",
            "Epoch [163/300], Train Loss: 3.8222, Train MedER: 1.3240, Validation Loss: 3.5911, Validation MedER: 1.3862\n",
            "Epoch [164/300], Train Loss: 3.8169, Train MedER: 1.3231, Validation Loss: 3.5865, Validation MedER: 1.3838\n",
            "Epoch [165/300], Train Loss: 3.8116, Train MedER: 1.3217, Validation Loss: 3.5818, Validation MedER: 1.3814\n",
            "Epoch [166/300], Train Loss: 3.8063, Train MedER: 1.3198, Validation Loss: 3.5772, Validation MedER: 1.3798\n",
            "Epoch [167/300], Train Loss: 3.8009, Train MedER: 1.3176, Validation Loss: 3.5724, Validation MedER: 1.3793\n",
            "Epoch [168/300], Train Loss: 3.7956, Train MedER: 1.3156, Validation Loss: 3.5677, Validation MedER: 1.3787\n",
            "Epoch [169/300], Train Loss: 3.7903, Train MedER: 1.3145, Validation Loss: 3.5630, Validation MedER: 1.3781\n",
            "Epoch [170/300], Train Loss: 3.7850, Train MedER: 1.3128, Validation Loss: 3.5582, Validation MedER: 1.3775\n",
            "Epoch [171/300], Train Loss: 3.7796, Train MedER: 1.3116, Validation Loss: 3.5535, Validation MedER: 1.3769\n",
            "Epoch [172/300], Train Loss: 3.7743, Train MedER: 1.3095, Validation Loss: 3.5487, Validation MedER: 1.3764\n",
            "Epoch [173/300], Train Loss: 3.7689, Train MedER: 1.3073, Validation Loss: 3.5440, Validation MedER: 1.3759\n",
            "Epoch [174/300], Train Loss: 3.7636, Train MedER: 1.3052, Validation Loss: 3.5393, Validation MedER: 1.3746\n",
            "Epoch [175/300], Train Loss: 3.7583, Train MedER: 1.3034, Validation Loss: 3.5346, Validation MedER: 1.3727\n",
            "Epoch [176/300], Train Loss: 3.7529, Train MedER: 1.3012, Validation Loss: 3.5299, Validation MedER: 1.3709\n",
            "Epoch [177/300], Train Loss: 3.7476, Train MedER: 1.3010, Validation Loss: 3.5253, Validation MedER: 1.3691\n",
            "Epoch [178/300], Train Loss: 3.7422, Train MedER: 1.3020, Validation Loss: 3.5207, Validation MedER: 1.3674\n",
            "Epoch [179/300], Train Loss: 3.7369, Train MedER: 1.3014, Validation Loss: 3.5161, Validation MedER: 1.3657\n",
            "Epoch [180/300], Train Loss: 3.7315, Train MedER: 1.3009, Validation Loss: 3.5115, Validation MedER: 1.3640\n",
            "Epoch [181/300], Train Loss: 3.7262, Train MedER: 1.3000, Validation Loss: 3.5069, Validation MedER: 1.3624\n",
            "Epoch [182/300], Train Loss: 3.7208, Train MedER: 1.2990, Validation Loss: 3.5023, Validation MedER: 1.3608\n",
            "Epoch [183/300], Train Loss: 3.7154, Train MedER: 1.2980, Validation Loss: 3.4977, Validation MedER: 1.3592\n",
            "Epoch [184/300], Train Loss: 3.7101, Train MedER: 1.2969, Validation Loss: 3.4931, Validation MedER: 1.3575\n",
            "Epoch [185/300], Train Loss: 3.7047, Train MedER: 1.2958, Validation Loss: 3.4885, Validation MedER: 1.3558\n",
            "Epoch [186/300], Train Loss: 3.6994, Train MedER: 1.2947, Validation Loss: 3.4838, Validation MedER: 1.3541\n",
            "Epoch [187/300], Train Loss: 3.6940, Train MedER: 1.2936, Validation Loss: 3.4792, Validation MedER: 1.3523\n",
            "Epoch [188/300], Train Loss: 3.6887, Train MedER: 1.2924, Validation Loss: 3.4745, Validation MedER: 1.3505\n",
            "Epoch [189/300], Train Loss: 3.6833, Train MedER: 1.2911, Validation Loss: 3.4699, Validation MedER: 1.3486\n",
            "Epoch [190/300], Train Loss: 3.6779, Train MedER: 1.2898, Validation Loss: 3.4652, Validation MedER: 1.3467\n",
            "Epoch [191/300], Train Loss: 3.6726, Train MedER: 1.2885, Validation Loss: 3.4605, Validation MedER: 1.3448\n",
            "Epoch [192/300], Train Loss: 3.6672, Train MedER: 1.2871, Validation Loss: 3.4558, Validation MedER: 1.3429\n",
            "Epoch [193/300], Train Loss: 3.6618, Train MedER: 1.2859, Validation Loss: 3.4511, Validation MedER: 1.3410\n",
            "Epoch [194/300], Train Loss: 3.6565, Train MedER: 1.2868, Validation Loss: 3.4464, Validation MedER: 1.3390\n",
            "Epoch [195/300], Train Loss: 3.6511, Train MedER: 1.2880, Validation Loss: 3.4417, Validation MedER: 1.3371\n",
            "Epoch [196/300], Train Loss: 3.6458, Train MedER: 1.2891, Validation Loss: 3.4370, Validation MedER: 1.3351\n",
            "Epoch [197/300], Train Loss: 3.6404, Train MedER: 1.2900, Validation Loss: 3.4323, Validation MedER: 1.3332\n",
            "Epoch [198/300], Train Loss: 3.6350, Train MedER: 1.2892, Validation Loss: 3.4276, Validation MedER: 1.3345\n",
            "Epoch [199/300], Train Loss: 3.6297, Train MedER: 1.2885, Validation Loss: 3.4230, Validation MedER: 1.3362\n",
            "Epoch [200/300], Train Loss: 3.6243, Train MedER: 1.2878, Validation Loss: 3.4183, Validation MedER: 1.3379\n",
            "Epoch [201/300], Train Loss: 3.6189, Train MedER: 1.2863, Validation Loss: 3.4136, Validation MedER: 1.3396\n",
            "Epoch [202/300], Train Loss: 3.6136, Train MedER: 1.2849, Validation Loss: 3.4090, Validation MedER: 1.3370\n",
            "Epoch [203/300], Train Loss: 3.6082, Train MedER: 1.2850, Validation Loss: 3.4043, Validation MedER: 1.3345\n",
            "Epoch [204/300], Train Loss: 3.6029, Train MedER: 1.2850, Validation Loss: 3.3997, Validation MedER: 1.3320\n",
            "Epoch [205/300], Train Loss: 3.5975, Train MedER: 1.2850, Validation Loss: 3.3950, Validation MedER: 1.3295\n",
            "Epoch [206/300], Train Loss: 3.5921, Train MedER: 1.2843, Validation Loss: 3.3904, Validation MedER: 1.3269\n",
            "Epoch [207/300], Train Loss: 3.5868, Train MedER: 1.2836, Validation Loss: 3.3857, Validation MedER: 1.3244\n",
            "Epoch [208/300], Train Loss: 3.5814, Train MedER: 1.2827, Validation Loss: 3.3811, Validation MedER: 1.3219\n",
            "Epoch [209/300], Train Loss: 3.5761, Train MedER: 1.2821, Validation Loss: 3.3764, Validation MedER: 1.3233\n",
            "Epoch [210/300], Train Loss: 3.5707, Train MedER: 1.2814, Validation Loss: 3.3718, Validation MedER: 1.3254\n",
            "Epoch [211/300], Train Loss: 3.5654, Train MedER: 1.2807, Validation Loss: 3.3671, Validation MedER: 1.3276\n",
            "Epoch [212/300], Train Loss: 3.5600, Train MedER: 1.2800, Validation Loss: 3.3625, Validation MedER: 1.3297\n",
            "Epoch [213/300], Train Loss: 3.5547, Train MedER: 1.2793, Validation Loss: 3.3578, Validation MedER: 1.3318\n",
            "Epoch [214/300], Train Loss: 3.5493, Train MedER: 1.2786, Validation Loss: 3.3532, Validation MedER: 1.3302\n",
            "Epoch [215/300], Train Loss: 3.5440, Train MedER: 1.2779, Validation Loss: 3.3485, Validation MedER: 1.3282\n",
            "Epoch [216/300], Train Loss: 3.5386, Train MedER: 1.2771, Validation Loss: 3.3438, Validation MedER: 1.3263\n",
            "Epoch [217/300], Train Loss: 3.5333, Train MedER: 1.2764, Validation Loss: 3.3392, Validation MedER: 1.3243\n",
            "Epoch [218/300], Train Loss: 3.5279, Train MedER: 1.2761, Validation Loss: 3.3345, Validation MedER: 1.3221\n",
            "Epoch [219/300], Train Loss: 3.5226, Train MedER: 1.2771, Validation Loss: 3.3299, Validation MedER: 1.3197\n",
            "Epoch [220/300], Train Loss: 3.5172, Train MedER: 1.2782, Validation Loss: 3.3252, Validation MedER: 1.3174\n",
            "Epoch [221/300], Train Loss: 3.5119, Train MedER: 1.2792, Validation Loss: 3.3206, Validation MedER: 1.3150\n",
            "Epoch [222/300], Train Loss: 3.5066, Train MedER: 1.2800, Validation Loss: 3.3159, Validation MedER: 1.3126\n",
            "Epoch [223/300], Train Loss: 3.5012, Train MedER: 1.2784, Validation Loss: 3.3113, Validation MedER: 1.3107\n",
            "Epoch [224/300], Train Loss: 3.4959, Train MedER: 1.2762, Validation Loss: 3.3066, Validation MedER: 1.3104\n",
            "Epoch [225/300], Train Loss: 3.4906, Train MedER: 1.2741, Validation Loss: 3.3020, Validation MedER: 1.3084\n",
            "Epoch [226/300], Train Loss: 3.4853, Train MedER: 1.2727, Validation Loss: 3.2974, Validation MedER: 1.3064\n",
            "Epoch [227/300], Train Loss: 3.4799, Train MedER: 1.2721, Validation Loss: 3.2928, Validation MedER: 1.3043\n",
            "Epoch [228/300], Train Loss: 3.4746, Train MedER: 1.2698, Validation Loss: 3.2881, Validation MedER: 1.3023\n",
            "Epoch [229/300], Train Loss: 3.4693, Train MedER: 1.2678, Validation Loss: 3.2835, Validation MedER: 1.3002\n",
            "Epoch [230/300], Train Loss: 3.4640, Train MedER: 1.2671, Validation Loss: 3.2789, Validation MedER: 1.2982\n",
            "Epoch [231/300], Train Loss: 3.4587, Train MedER: 1.2664, Validation Loss: 3.2743, Validation MedER: 1.2981\n",
            "Epoch [232/300], Train Loss: 3.4534, Train MedER: 1.2657, Validation Loss: 3.2697, Validation MedER: 1.2969\n",
            "Epoch [233/300], Train Loss: 3.4480, Train MedER: 1.2650, Validation Loss: 3.2651, Validation MedER: 1.2942\n",
            "Epoch [234/300], Train Loss: 3.4427, Train MedER: 1.2632, Validation Loss: 3.2604, Validation MedER: 1.2915\n",
            "Epoch [235/300], Train Loss: 3.4374, Train MedER: 1.2623, Validation Loss: 3.2558, Validation MedER: 1.2888\n",
            "Epoch [236/300], Train Loss: 3.4321, Train MedER: 1.2615, Validation Loss: 3.2512, Validation MedER: 1.2861\n",
            "Epoch [237/300], Train Loss: 3.4268, Train MedER: 1.2612, Validation Loss: 3.2466, Validation MedER: 1.2841\n",
            "Epoch [238/300], Train Loss: 3.4216, Train MedER: 1.2614, Validation Loss: 3.2420, Validation MedER: 1.2821\n",
            "Epoch [239/300], Train Loss: 3.4163, Train MedER: 1.2606, Validation Loss: 3.2374, Validation MedER: 1.2801\n",
            "Epoch [240/300], Train Loss: 3.4110, Train MedER: 1.2599, Validation Loss: 3.2328, Validation MedER: 1.2781\n",
            "Epoch [241/300], Train Loss: 3.4057, Train MedER: 1.2581, Validation Loss: 3.2282, Validation MedER: 1.2770\n",
            "Epoch [242/300], Train Loss: 3.4004, Train MedER: 1.2572, Validation Loss: 3.2236, Validation MedER: 1.2770\n",
            "Epoch [243/300], Train Loss: 3.3951, Train MedER: 1.2570, Validation Loss: 3.2190, Validation MedER: 1.2771\n",
            "Epoch [244/300], Train Loss: 3.3899, Train MedER: 1.2560, Validation Loss: 3.2144, Validation MedER: 1.2772\n",
            "Epoch [245/300], Train Loss: 3.3846, Train MedER: 1.2547, Validation Loss: 3.2098, Validation MedER: 1.2772\n",
            "Epoch [246/300], Train Loss: 3.3793, Train MedER: 1.2537, Validation Loss: 3.2053, Validation MedER: 1.2773\n",
            "Epoch [247/300], Train Loss: 3.3741, Train MedER: 1.2529, Validation Loss: 3.2007, Validation MedER: 1.2774\n",
            "Epoch [248/300], Train Loss: 3.3688, Train MedER: 1.2522, Validation Loss: 3.1961, Validation MedER: 1.2774\n",
            "Epoch [249/300], Train Loss: 3.3636, Train MedER: 1.2510, Validation Loss: 3.1916, Validation MedER: 1.2775\n",
            "Epoch [250/300], Train Loss: 3.3583, Train MedER: 1.2488, Validation Loss: 3.1870, Validation MedER: 1.2759\n",
            "Epoch [251/300], Train Loss: 3.3531, Train MedER: 1.2469, Validation Loss: 3.1824, Validation MedER: 1.2726\n",
            "Epoch [252/300], Train Loss: 3.3478, Train MedER: 1.2450, Validation Loss: 3.1779, Validation MedER: 1.2694\n",
            "Epoch [253/300], Train Loss: 3.3426, Train MedER: 1.2422, Validation Loss: 3.1733, Validation MedER: 1.2661\n",
            "Epoch [254/300], Train Loss: 3.3373, Train MedER: 1.2400, Validation Loss: 3.1688, Validation MedER: 1.2628\n",
            "Epoch [255/300], Train Loss: 3.3321, Train MedER: 1.2403, Validation Loss: 3.1642, Validation MedER: 1.2602\n",
            "Epoch [256/300], Train Loss: 3.3269, Train MedER: 1.2407, Validation Loss: 3.1597, Validation MedER: 1.2612\n",
            "Epoch [257/300], Train Loss: 3.3217, Train MedER: 1.2383, Validation Loss: 3.1551, Validation MedER: 1.2621\n",
            "Epoch [258/300], Train Loss: 3.3165, Train MedER: 1.2359, Validation Loss: 3.1506, Validation MedER: 1.2631\n",
            "Epoch [259/300], Train Loss: 3.3112, Train MedER: 1.2351, Validation Loss: 3.1461, Validation MedER: 1.2640\n",
            "Epoch [260/300], Train Loss: 3.3060, Train MedER: 1.2344, Validation Loss: 3.1415, Validation MedER: 1.2650\n",
            "Epoch [261/300], Train Loss: 3.3008, Train MedER: 1.2337, Validation Loss: 3.1370, Validation MedER: 1.2659\n",
            "Epoch [262/300], Train Loss: 3.2956, Train MedER: 1.2312, Validation Loss: 3.1325, Validation MedER: 1.2666\n",
            "Epoch [263/300], Train Loss: 3.2904, Train MedER: 1.2286, Validation Loss: 3.1280, Validation MedER: 1.2649\n",
            "Epoch [264/300], Train Loss: 3.2852, Train MedER: 1.2267, Validation Loss: 3.1234, Validation MedER: 1.2632\n",
            "Epoch [265/300], Train Loss: 3.2800, Train MedER: 1.2233, Validation Loss: 3.1189, Validation MedER: 1.2616\n",
            "Epoch [266/300], Train Loss: 3.2749, Train MedER: 1.2207, Validation Loss: 3.1144, Validation MedER: 1.2599\n",
            "Epoch [267/300], Train Loss: 3.2697, Train MedER: 1.2180, Validation Loss: 3.1099, Validation MedER: 1.2582\n",
            "Epoch [268/300], Train Loss: 3.2645, Train MedER: 1.2154, Validation Loss: 3.1054, Validation MedER: 1.2565\n",
            "Epoch [269/300], Train Loss: 3.2593, Train MedER: 1.2127, Validation Loss: 3.1009, Validation MedER: 1.2549\n",
            "Epoch [270/300], Train Loss: 3.2542, Train MedER: 1.2101, Validation Loss: 3.0964, Validation MedER: 1.2532\n",
            "Epoch [271/300], Train Loss: 3.2490, Train MedER: 1.2078, Validation Loss: 3.0920, Validation MedER: 1.2515\n",
            "Epoch [272/300], Train Loss: 3.2439, Train MedER: 1.2081, Validation Loss: 3.0875, Validation MedER: 1.2498\n",
            "Epoch [273/300], Train Loss: 3.2387, Train MedER: 1.2084, Validation Loss: 3.0830, Validation MedER: 1.2481\n",
            "Epoch [274/300], Train Loss: 3.2336, Train MedER: 1.2070, Validation Loss: 3.0785, Validation MedER: 1.2465\n",
            "Epoch [275/300], Train Loss: 3.2284, Train MedER: 1.2069, Validation Loss: 3.0741, Validation MedER: 1.2448\n",
            "Epoch [276/300], Train Loss: 3.2233, Train MedER: 1.2047, Validation Loss: 3.0696, Validation MedER: 1.2431\n",
            "Epoch [277/300], Train Loss: 3.2182, Train MedER: 1.2021, Validation Loss: 3.0651, Validation MedER: 1.2414\n",
            "Epoch [278/300], Train Loss: 3.2131, Train MedER: 1.2015, Validation Loss: 3.0607, Validation MedER: 1.2397\n",
            "Epoch [279/300], Train Loss: 3.2079, Train MedER: 1.2007, Validation Loss: 3.0562, Validation MedER: 1.2392\n",
            "Epoch [280/300], Train Loss: 3.2028, Train MedER: 1.1985, Validation Loss: 3.0518, Validation MedER: 1.2387\n",
            "Epoch [281/300], Train Loss: 3.1977, Train MedER: 1.1963, Validation Loss: 3.0474, Validation MedER: 1.2382\n",
            "Epoch [282/300], Train Loss: 3.1926, Train MedER: 1.1951, Validation Loss: 3.0429, Validation MedER: 1.2378\n",
            "Epoch [283/300], Train Loss: 3.1875, Train MedER: 1.1919, Validation Loss: 3.0385, Validation MedER: 1.2373\n",
            "Epoch [284/300], Train Loss: 3.1824, Train MedER: 1.1898, Validation Loss: 3.0341, Validation MedER: 1.2368\n",
            "Epoch [285/300], Train Loss: 3.1773, Train MedER: 1.1904, Validation Loss: 3.0296, Validation MedER: 1.2356\n",
            "Epoch [286/300], Train Loss: 3.1723, Train MedER: 1.1902, Validation Loss: 3.0252, Validation MedER: 1.2334\n",
            "Epoch [287/300], Train Loss: 3.1672, Train MedER: 1.1878, Validation Loss: 3.0208, Validation MedER: 1.2301\n",
            "Epoch [288/300], Train Loss: 3.1621, Train MedER: 1.1853, Validation Loss: 3.0164, Validation MedER: 1.2274\n",
            "Epoch [289/300], Train Loss: 3.1570, Train MedER: 1.1861, Validation Loss: 3.0120, Validation MedER: 1.2272\n",
            "Epoch [290/300], Train Loss: 3.1520, Train MedER: 1.1839, Validation Loss: 3.0076, Validation MedER: 1.2258\n",
            "Epoch [291/300], Train Loss: 3.1469, Train MedER: 1.1815, Validation Loss: 3.0032, Validation MedER: 1.2239\n",
            "Epoch [292/300], Train Loss: 3.1419, Train MedER: 1.1805, Validation Loss: 2.9988, Validation MedER: 1.2235\n",
            "Epoch [293/300], Train Loss: 3.1368, Train MedER: 1.1795, Validation Loss: 2.9945, Validation MedER: 1.2236\n",
            "Epoch [294/300], Train Loss: 3.1318, Train MedER: 1.1773, Validation Loss: 2.9901, Validation MedER: 1.2214\n",
            "Epoch [295/300], Train Loss: 3.1268, Train MedER: 1.1776, Validation Loss: 2.9857, Validation MedER: 1.2199\n",
            "Epoch [296/300], Train Loss: 3.1218, Train MedER: 1.1771, Validation Loss: 2.9813, Validation MedER: 1.2196\n",
            "Epoch [297/300], Train Loss: 3.1167, Train MedER: 1.1757, Validation Loss: 2.9770, Validation MedER: 1.2192\n",
            "Epoch [298/300], Train Loss: 3.1117, Train MedER: 1.1748, Validation Loss: 2.9726, Validation MedER: 1.2175\n",
            "Epoch [299/300], Train Loss: 3.1067, Train MedER: 1.1738, Validation Loss: 2.9683, Validation MedER: 1.2156\n",
            "Epoch [300/300], Train Loss: 3.1017, Train MedER: 1.1728, Validation Loss: 2.9639, Validation MedER: 1.2137\n"
          ]
        }
      ]
    },
    {
      "cell_type": "code",
      "source": [
        "# Plot the losses and MedER for both training and validation\n",
        "import matplotlib.pyplot as plt\n",
        "\n",
        "# Plot Loss\n",
        "plt.figure(figsize=(10, 5))\n",
        "plt.plot(train_losses, label='Train Loss')\n",
        "plt.plot(val_losses, label='Validation Loss')\n",
        "plt.xlabel('Epochs')\n",
        "plt.ylabel('Loss')\n",
        "plt.title('Train and Validation Loss')\n",
        "plt.legend()\n",
        "plt.show()\n",
        "\n",
        "# Plot Median Error Rate (MedER)\n",
        "plt.figure(figsize=(10, 5))\n",
        "plt.plot(train_mer, label='Train MedER')\n",
        "plt.plot(val_mer, label='Validation MedER')\n",
        "plt.xlabel('Epochs')\n",
        "plt.ylabel('MedER')\n",
        "plt.title('Train and Validation Median Error Rate (MedER)')\n",
        "plt.legend()\n",
        "plt.show()"
      ],
      "metadata": {
        "id": "-ATHYeYF5Oax",
        "colab": {
          "base_uri": "https://localhost:8080/",
          "height": 957
        },
        "outputId": "5f11c5a9-662c-4a1a-ccdb-a7785a346a5a"
      },
      "execution_count": 10,
      "outputs": [
        {
          "output_type": "display_data",
          "data": {
            "text/plain": [
              "<Figure size 1000x500 with 1 Axes>"
            ],
            "image/png": "[encoded data removed]"
          },
          "metadata": {}
        },
        {
          "output_type": "display_data",
          "data": {
            "text/plain": [
              "<Figure size 1000x500 with 1 Axes>"
            ],
            "image/png": "[encoded data removed]"
          },
          "metadata": {}
        }
      ]
    },
    {
      "cell_type": "markdown",
      "source": [
        "Function to compute the average Word2Vec embedding for a text (list of words)"
      ],
      "metadata": {
        "id": "fJSHDH-t1RBK"
      }
    },
    {
      "cell_type": "code",
      "source": [
        "def get_average_word2vec(text, model, num_features=300):\n",
        "    words = text.split()\n",
        "    word_vecs = []\n",
        "    for word in words:\n",
        "        if word in model.key_to_index:\n",
        "            word_vecs.append(model[word])\n",
        "    if len(word_vecs) == 0:\n",
        "        return np.zeros(num_features)\n",
        "    return np.mean(word_vecs, axis=0)"
      ],
      "metadata": {
        "id": "zmEYiIjDwCGK"
      },
      "execution_count": 11,
      "outputs": []
    },
    {
      "cell_type": "markdown",
      "source": [
        "Initialize the preprocessors"
      ],
      "metadata": {
        "id": "pj-WHNO41WC6"
      }
    },
    {
      "cell_type": "code",
      "source": [
        "mlb = MultiLabelBinarizer()\n",
        "scaler = StandardScaler()\n",
        "\n",
        "# Fit MultiLabelBinarizer for genres and StandardScaler for year, budget, and runtime\n",
        "mlb.fit(movie_data['genres'].str.split(','))\n",
        "scaler.fit(movie_data[['year']])"
      ],
      "metadata": {
        "id": "6p0gLMX9wEJL",
        "colab": {
          "base_uri": "https://localhost:8080/",
          "height": 80
        },
        "outputId": "68b38522-0218-49e3-a98e-86a5b5e0c6af"
      },
      "execution_count": 12,
      "outputs": [
        {
          "output_type": "execute_result",
          "data": {
            "text/plain": [
              "StandardScaler()"
            ],
            "text/html": [
              "<style>#sk-container-id-1 {\n",
              "  /* Definition of color scheme common for light and dark mode */\n",
              "  --sklearn-color-text: black;\n",
              "  --sklearn-color-line: gray;\n",
              "  /* Definition of color scheme for unfitted estimators */\n",
              "  --sklearn-color-unfitted-level-0: #fff5e6;\n",
              "  --sklearn-color-unfitted-level-1: #f6e4d2;\n",
              "  --sklearn-color-unfitted-level-2: #ffe0b3;\n",
              "  --sklearn-color-unfitted-level-3: chocolate;\n",
              "  /* Definition of color scheme for fitted estimators */\n",
              "  --sklearn-color-fitted-level-0: #f0f8ff;\n",
              "  --sklearn-color-fitted-level-1: #d4ebff;\n",
              "  --sklearn-color-fitted-level-2: #b3dbfd;\n",
              "  --sklearn-color-fitted-level-3: cornflowerblue;\n",
              "\n",
              "  /* Specific color for light theme */\n",
              "  --sklearn-color-text-on-default-background: var(--sg-text-color, var(--theme-code-foreground, var(--jp-content-font-color1, black)));\n",
              "  --sklearn-color-background: var(--sg-background-color, var(--theme-background, var(--jp-layout-color0, white)));\n",
              "  --sklearn-color-border-box: var(--sg-text-color, var(--theme-code-foreground, var(--jp-content-font-color1, black)));\n",
              "  --sklearn-color-icon: #696969;\n",
              "\n",
              "  @media (prefers-color-scheme: dark) {\n",
              "    /* Redefinition of color scheme for dark theme */\n",
              "    --sklearn-color-text-on-default-background: var(--sg-text-color, var(--theme-code-foreground, var(--jp-content-font-color1, white)));\n",
              "    --sklearn-color-background: var(--sg-background-color, var(--theme-background, var(--jp-layout-color0, #111)));\n",
              "    --sklearn-color-border-box: var(--sg-text-color, var(--theme-code-foreground, var(--jp-content-font-color1, white)));\n",
              "    --sklearn-color-icon: #878787;\n",
              "  }\n",
              "}\n",
              "\n",
              "#sk-container-id-1 {\n",
              "  color: var(--sklearn-color-text);\n",
              "}\n",
              "\n",
              "#sk-container-id-1 pre {\n",
              "  padding: 0;\n",
              "}\n",
              "\n",
              "#sk-container-id-1 input.sk-hidden--visually {\n",
              "  border: 0;\n",
              "  clip: rect(1px 1px 1px 1px);\n",
              "  clip: rect(1px, 1px, 1px, 1px);\n",
              "  height: 1px;\n",
              "  margin: -1px;\n",
              "  overflow: hidden;\n",
              "  padding: 0;\n",
              "  position: absolute;\n",
              "  width: 1px;\n",
              "}\n",
              "\n",
              "#sk-container-id-1 div.sk-dashed-wrapped {\n",
              "  border: 1px dashed var(--sklearn-color-line);\n",
              "  margin: 0 0.4em 0.5em 0.4em;\n",
              "  box-sizing: border-box;\n",
              "  padding-bottom: 0.4em;\n",
              "  background-color: var(--sklearn-color-background);\n",
              "}\n",
              "\n",
              "#sk-container-id-1 div.sk-container {\n",
              "  /* jupyter's `normalize.less` sets `[hidden] { display: none; }`\n",
              "     but bootstrap.min.css set `[hidden] { display: none !important; }`\n",
              "     so we also need the `!important` here to be able to override the\n",
              "     default hidden behavior on the sphinx rendered scikit-learn.org.\n",
              "     See: https://github.com/scikit-learn/scikit-learn/issues/21755 */\n",
              "  display: inline-block !important;\n",
              "  position: relative;\n",
              "}\n",
              "\n",
              "#sk-container-id-1 div.sk-text-repr-fallback {\n",
              "  display: none;\n",
              "}\n",
              "\n",
              "div.sk-parallel-item,\n",
              "div.sk-serial,\n",
              "div.sk-item {\n",
              "  /* draw centered vertical line to link estimators */\n",
              "  background-image: linear-gradient(var(--sklearn-color-text-on-default-background), var(--sklearn-color-text-on-default-background));\n",
              "  background-size: 2px 100%;\n",
              "  background-repeat: no-repeat;\n",
              "  background-position: center center;\n",
              "}\n",
              "\n",
              "/* Parallel-specific style estimator block */\n",
              "\n",
              "#sk-container-id-1 div.sk-parallel-item::after {\n",
              "  content: \"\";\n",
              "  width: 100%;\n",
              "  border-bottom: 2px solid var(--sklearn-color-text-on-default-background);\n",
              "  flex-grow: 1;\n",
              "}\n",
              "\n",
              "#sk-container-id-1 div.sk-parallel {\n",
              "  display: flex;\n",
              "  align-items: stretch;\n",
              "  justify-content: center;\n",
              "  background-color: var(--sklearn-color-background);\n",
              "  position: relative;\n",
              "}\n",
              "\n",
              "#sk-container-id-1 div.sk-parallel-item {\n",
              "  display: flex;\n",
              "  flex-direction: column;\n",
              "}\n",
              "\n",
              "#sk-container-id-1 div.sk-parallel-item:first-child::after {\n",
              "  align-self: flex-end;\n",
              "  width: 50%;\n",
              "}\n",
              "\n",
              "#sk-container-id-1 div.sk-parallel-item:last-child::after {\n",
              "  align-self: flex-start;\n",
              "  width: 50%;\n",
              "}\n",
              "\n",
              "#sk-container-id-1 div.sk-parallel-item:only-child::after {\n",
              "  width: 0;\n",
              "}\n",
              "\n",
              "/* Serial-specific style estimator block */\n",
              "\n",
              "#sk-container-id-1 div.sk-serial {\n",
              "  display: flex;\n",
              "  flex-direction: column;\n",
              "  align-items: center;\n",
              "  background-color: var(--sklearn-color-background);\n",
              "  padding-right: 1em;\n",
              "  padding-left: 1em;\n",
              "}\n",
              "\n",
              "\n",
              "/* Toggleable style: style used for estimator/Pipeline/ColumnTransformer box that is\n",
              "clickable and can be expanded/collapsed.\n",
              "- Pipeline and ColumnTransformer use this feature and define the default style\n",
              "- Estimators will overwrite some part of the style using the `sk-estimator` class\n",
              "*/\n",
              "\n",
              "/* Pipeline and ColumnTransformer style (default) */\n",
              "\n",
              "#sk-container-id-1 div.sk-toggleable {\n",
              "  /* Default theme specific background. It is overwritten whether we have a\n",
              "  specific estimator or a Pipeline/ColumnTransformer */\n",
              "  background-color: var(--sklearn-color-background);\n",
              "}\n",
              "\n",
              "/* Toggleable label */\n",
              "#sk-container-id-1 label.sk-toggleable__label {\n",
              "  cursor: pointer;\n",
              "  display: block;\n",
              "  width: 100%;\n",
              "  margin-bottom: 0;\n",
              "  padding: 0.5em;\n",
              "  box-sizing: border-box;\n",
              "  text-align: center;\n",
              "}\n",
              "\n",
              "#sk-container-id-1 label.sk-toggleable__label-arrow:before {\n",
              "  /* Arrow on the left of the label */\n",
              "  content: \"▸\";\n",
              "  float: left;\n",
              "  margin-right: 0.25em;\n",
              "  color: var(--sklearn-color-icon);\n",
              "}\n",
              "\n",
              "#sk-container-id-1 label.sk-toggleable__label-arrow:hover:before {\n",
              "  color: var(--sklearn-color-text);\n",
              "}\n",
              "\n",
              "/* Toggleable content - dropdown */\n",
              "\n",
              "#sk-container-id-1 div.sk-toggleable__content {\n",
              "  max-height: 0;\n",
              "  max-width: 0;\n",
              "  overflow: hidden;\n",
              "  text-align: left;\n",
              "  /* unfitted */\n",
              "  background-color: var(--sklearn-color-unfitted-level-0);\n",
              "}\n",
              "\n",
              "#sk-container-id-1 div.sk-toggleable__content.fitted {\n",
              "  /* fitted */\n",
              "  background-color: var(--sklearn-color-fitted-level-0);\n",
              "}\n",
              "\n",
              "#sk-container-id-1 div.sk-toggleable__content pre {\n",
              "  margin: 0.2em;\n",
              "  border-radius: 0.25em;\n",
              "  color: var(--sklearn-color-text);\n",
              "  /* unfitted */\n",
              "  background-color: var(--sklearn-color-unfitted-level-0);\n",
              "}\n",
              "\n",
              "#sk-container-id-1 div.sk-toggleable__content.fitted pre {\n",
              "  /* unfitted */\n",
              "  background-color: var(--sklearn-color-fitted-level-0);\n",
              "}\n",
              "\n",
              "#sk-container-id-1 input.sk-toggleable__control:checked~div.sk-toggleable__content {\n",
              "  /* Expand drop-down */\n",
              "  max-height: 200px;\n",
              "  max-width: 100%;\n",
              "  overflow: auto;\n",
              "}\n",
              "\n",
              "#sk-container-id-1 input.sk-toggleable__control:checked~label.sk-toggleable__label-arrow:before {\n",
              "  content: \"▾\";\n",
              "}\n",
              "\n",
              "/* Pipeline/ColumnTransformer-specific style */\n",
              "\n",
              "#sk-container-id-1 div.sk-label input.sk-toggleable__control:checked~label.sk-toggleable__label {\n",
              "  color: var(--sklearn-color-text);\n",
              "  background-color: var(--sklearn-color-unfitted-level-2);\n",
              "}\n",
              "\n",
              "#sk-container-id-1 div.sk-label.fitted input.sk-toggleable__control:checked~label.sk-toggleable__label {\n",
              "  background-color: var(--sklearn-color-fitted-level-2);\n",
              "}\n",
              "\n",
              "/* Estimator-specific style */\n",
              "\n",
              "/* Colorize estimator box */\n",
              "#sk-container-id-1 div.sk-estimator input.sk-toggleable__control:checked~label.sk-toggleable__label {\n",
              "  /* unfitted */\n",
              "  background-color: var(--sklearn-color-unfitted-level-2);\n",
              "}\n",
              "\n",
              "#sk-container-id-1 div.sk-estimator.fitted input.sk-toggleable__control:checked~label.sk-toggleable__label {\n",
              "  /* fitted */\n",
              "  background-color: var(--sklearn-color-fitted-level-2);\n",
              "}\n",
              "\n",
              "#sk-container-id-1 div.sk-label label.sk-toggleable__label,\n",
              "#sk-container-id-1 div.sk-label label {\n",
              "  /* The background is the default theme color */\n",
              "  color: var(--sklearn-color-text-on-default-background);\n",
              "}\n",
              "\n",
              "/* On hover, darken the color of the background */\n",
              "#sk-container-id-1 div.sk-label:hover label.sk-toggleable__label {\n",
              "  color: var(--sklearn-color-text);\n",
              "  background-color: var(--sklearn-color-unfitted-level-2);\n",
              "}\n",
              "\n",
              "/* Label box, darken color on hover, fitted */\n",
              "#sk-container-id-1 div.sk-label.fitted:hover label.sk-toggleable__label.fitted {\n",
              "  color: var(--sklearn-color-text);\n",
              "  background-color: var(--sklearn-color-fitted-level-2);\n",
              "}\n",
              "\n",
              "/* Estimator label */\n",
              "\n",
              "#sk-container-id-1 div.sk-label label {\n",
              "  font-family: monospace;\n",
              "  font-weight: bold;\n",
              "  display: inline-block;\n",
              "  line-height: 1.2em;\n",
              "}\n",
              "\n",
              "#sk-container-id-1 div.sk-label-container {\n",
              "  text-align: center;\n",
              "}\n",
              "\n",
              "/* Estimator-specific */\n",
              "#sk-container-id-1 div.sk-estimator {\n",
              "  font-family: monospace;\n",
              "  border: 1px dotted var(--sklearn-color-border-box);\n",
              "  border-radius: 0.25em;\n",
              "  box-sizing: border-box;\n",
              "  margin-bottom: 0.5em;\n",
              "  /* unfitted */\n",
              "  background-color: var(--sklearn-color-unfitted-level-0);\n",
              "}\n",
              "\n",
              "#sk-container-id-1 div.sk-estimator.fitted {\n",
              "  /* fitted */\n",
              "  background-color: var(--sklearn-color-fitted-level-0);\n",
              "}\n",
              "\n",
              "/* on hover */\n",
              "#sk-container-id-1 div.sk-estimator:hover {\n",
              "  /* unfitted */\n",
              "  background-color: var(--sklearn-color-unfitted-level-2);\n",
              "}\n",
              "\n",
              "#sk-container-id-1 div.sk-estimator.fitted:hover {\n",
              "  /* fitted */\n",
              "  background-color: var(--sklearn-color-fitted-level-2);\n",
              "}\n",
              "\n",
              "/* Specification for estimator info (e.g. \"i\" and \"?\") */\n",
              "\n",
              "/* Common style for \"i\" and \"?\" */\n",
              "\n",
              ".sk-estimator-doc-link,\n",
              "a:link.sk-estimator-doc-link,\n",
              "a:visited.sk-estimator-doc-link {\n",
              "  float: right;\n",
              "  font-size: smaller;\n",
              "  line-height: 1em;\n",
              "  font-family: monospace;\n",
              "  background-color: var(--sklearn-color-background);\n",
              "  border-radius: 1em;\n",
              "  height: 1em;\n",
              "  width: 1em;\n",
              "  text-decoration: none !important;\n",
              "  margin-left: 1ex;\n",
              "  /* unfitted */\n",
              "  border: var(--sklearn-color-unfitted-level-1) 1pt solid;\n",
              "  color: var(--sklearn-color-unfitted-level-1);\n",
              "}\n",
              "\n",
              ".sk-estimator-doc-link.fitted,\n",
              "a:link.sk-estimator-doc-link.fitted,\n",
              "a:visited.sk-estimator-doc-link.fitted {\n",
              "  /* fitted */\n",
              "  border: var(--sklearn-color-fitted-level-1) 1pt solid;\n",
              "  color: var(--sklearn-color-fitted-level-1);\n",
              "}\n",
              "\n",
              "/* On hover */\n",
              "div.sk-estimator:hover .sk-estimator-doc-link:hover,\n",
              ".sk-estimator-doc-link:hover,\n",
              "div.sk-label-container:hover .sk-estimator-doc-link:hover,\n",
              ".sk-estimator-doc-link:hover {\n",
              "  /* unfitted */\n",
              "  background-color: var(--sklearn-color-unfitted-level-3);\n",
              "  color: var(--sklearn-color-background);\n",
              "  text-decoration: none;\n",
              "}\n",
              "\n",
              "div.sk-estimator.fitted:hover .sk-estimator-doc-link.fitted:hover,\n",
              ".sk-estimator-doc-link.fitted:hover,\n",
              "div.sk-label-container:hover .sk-estimator-doc-link.fitted:hover,\n",
              ".sk-estimator-doc-link.fitted:hover {\n",
              "  /* fitted */\n",
              "  background-color: var(--sklearn-color-fitted-level-3);\n",
              "  color: var(--sklearn-color-background);\n",
              "  text-decoration: none;\n",
              "}\n",
              "\n",
              "/* Span, style for the box shown on hovering the info icon */\n",
              ".sk-estimator-doc-link span {\n",
              "  display: none;\n",
              "  z-index: 9999;\n",
              "  position: relative;\n",
              "  font-weight: normal;\n",
              "  right: .2ex;\n",
              "  padding: .5ex;\n",
              "  margin: .5ex;\n",
              "  width: min-content;\n",
              "  min-width: 20ex;\n",
              "  max-width: 50ex;\n",
              "  color: var(--sklearn-color-text);\n",
              "  box-shadow: 2pt 2pt 4pt #999;\n",
              "  /* unfitted */\n",
              "  background: var(--sklearn-color-unfitted-level-0);\n",
              "  border: .5pt solid var(--sklearn-color-unfitted-level-3);\n",
              "}\n",
              "\n",
              ".sk-estimator-doc-link.fitted span {\n",
              "  /* fitted */\n",
              "  background: var(--sklearn-color-fitted-level-0);\n",
              "  border: var(--sklearn-color-fitted-level-3);\n",
              "}\n",
              "\n",
              ".sk-estimator-doc-link:hover span {\n",
              "  display: block;\n",
              "}\n",
              "\n",
              "/* \"?\"-specific style due to the `<a>` HTML tag */\n",
              "\n",
              "#sk-container-id-1 a.estimator_doc_link {\n",
              "  float: right;\n",
              "  font-size: 1rem;\n",
              "  line-height: 1em;\n",
              "  font-family: monospace;\n",
              "  background-color: var(--sklearn-color-background);\n",
              "  border-radius: 1rem;\n",
              "  height: 1rem;\n",
              "  width: 1rem;\n",
              "  text-decoration: none;\n",
              "  /* unfitted */\n",
              "  color: var(--sklearn-color-unfitted-level-1);\n",
              "  border: var(--sklearn-color-unfitted-level-1) 1pt solid;\n",
              "}\n",
              "\n",
              "#sk-container-id-1 a.estimator_doc_link.fitted {\n",
              "  /* fitted */\n",
              "  border: var(--sklearn-color-fitted-level-1) 1pt solid;\n",
              "  color: var(--sklearn-color-fitted-level-1);\n",
              "}\n",
              "\n",
              "/* On hover */\n",
              "#sk-container-id-1 a.estimator_doc_link:hover {\n",
              "  /* unfitted */\n",
              "  background-color: var(--sklearn-color-unfitted-level-3);\n",
              "  color: var(--sklearn-color-background);\n",
              "  text-decoration: none;\n",
              "}\n",
              "\n",
              "#sk-container-id-1 a.estimator_doc_link.fitted:hover {\n",
              "  /* fitted */\n",
              "  background-color: var(--sklearn-color-fitted-level-3);\n",
              "}\n",
              "</style><div id=\"sk-container-id-1\" class=\"sk-top-container\"><div class=\"sk-text-repr-fallback\"><pre>StandardScaler()</pre><b>In a Jupyter environment, please rerun this cell to show the HTML representation or trust the notebook. <br />On GitHub, the HTML representation is unable to render, please try loading this page with nbviewer.org.</b></div><div class=\"sk-container\" hidden><div class=\"sk-item\"><div class=\"sk-estimator fitted sk-toggleable\"><input class=\"sk-toggleable__control sk-hidden--visually\" id=\"sk-estimator-id-1\" type=\"checkbox\" checked><label for=\"sk-estimator-id-1\" class=\"sk-toggleable__label fitted sk-toggleable__label-arrow fitted\">&nbsp;&nbsp;StandardScaler<a class=\"sk-estimator-doc-link fitted\" rel=\"noreferrer\" target=\"_blank\" href=\"https://scikit-learn.org/1.5/modules/generated/sklearn.preprocessing.StandardScaler.html\">?<span>Documentation for StandardScaler</span></a><span class=\"sk-estimator-doc-link fitted\">i<span>Fitted</span></span></label><div class=\"sk-toggleable__content fitted\"><pre>StandardScaler()</pre></div> </div></div></div></div>"
            ]
          },
          "metadata": {},
          "execution_count": 12
        }
      ]
    },
    {
      "cell_type": "markdown",
      "source": [
        "Function to compute the average Word2Vec embedding for a text (list of words)"
      ],
      "metadata": {
        "id": "-1IcMglZ1bcp"
      }
    },
    {
      "cell_type": "code",
      "source": [
        "def get_average_word2vec(text, model, num_features=300):\n",
        "    words = text.split()\n",
        "    word_vecs = []\n",
        "    for word in words:\n",
        "        if word in model.key_to_index:\n",
        "            word_vecs.append(model[word])\n",
        "    if len(word_vecs) == 0:\n",
        "        return np.zeros(num_features)\n",
        "    return np.mean(word_vecs, axis=0)"
      ],
      "metadata": {
        "id": "rgKC5ZNawH7O"
      },
      "execution_count": 13,
      "outputs": []
    },
    {
      "cell_type": "markdown",
      "source": [
        "# Process features using Word2Vec"
      ],
      "metadata": {
        "id": "7NxRokgx1gUR"
      }
    },
    {
      "cell_type": "code",
      "source": [
        "\n",
        "X_plot_vecs = np.array([get_average_word2vec(plot, word2vec_model) for plot in movie_data['plot']])\n",
        "X_keywords_vecs = np.array([get_average_word2vec(keywords, word2vec_model) for keywords in movie_data['keywords']])\n",
        "X_producers_vecs = np.array([get_average_word2vec(producers, word2vec_model) for producers in movie_data['producers']])\n",
        "X_directors_vecs = np.array([get_average_word2vec(directors, word2vec_model) for directors in movie_data['directors']])\n",
        "X_casting_directors_vecs = np.array([get_average_word2vec(casting_directors, word2vec_model) for casting_directors in movie_data['casting directors']])\n",
        "X_taglines_vecs = np.array([get_average_word2vec(taglines, word2vec_model) for taglines in movie_data['taglines']])\n",
        "\n",
        "# Process genres and year columns\n",
        "X_genres = mlb.transform(movie_data['genres'].str.split(','))\n",
        "X_year = scaler.transform(movie_data[['year']].values)\n"
      ],
      "metadata": {
        "id": "CfVXpLMSwQ8a",
        "colab": {
          "base_uri": "https://localhost:8080/"
        },
        "outputId": "5d087f7d-73ac-4ca7-82f6-6826e2204485"
      },
      "execution_count": 14,
      "outputs": [
        {
          "output_type": "stream",
          "name": "stderr",
          "text": [
            "/usr/local/lib/python3.10/dist-packages/sklearn/base.py:493: UserWarning: X does not have valid feature names, but StandardScaler was fitted with feature names\n",
            "  warnings.warn(\n"
          ]
        }
      ]
    },
    {
      "cell_type": "markdown",
      "source": [
        "# Combine all features into a single feature matrix"
      ],
      "metadata": {
        "id": "jW6k_UZM1k1B"
      }
    },
    {
      "cell_type": "code",
      "source": [
        "\n",
        "X_combined = np.hstack([\n",
        "    X_plot_vecs, X_keywords_vecs, X_producers_vecs, X_directors_vecs, X_genres,\n",
        "    X_casting_directors_vecs, X_taglines_vecs, X_year\n",
        "])\n",
        "\n",
        "# Convert to PyTorch tensor\n",
        "X_tensor = torch.tensor(X_combined, dtype=torch.float32)"
      ],
      "metadata": {
        "id": "oiFpONIuwJsz"
      },
      "execution_count": 15,
      "outputs": []
    },
    {
      "cell_type": "code",
      "source": [
        "ratings = movie_data['imdb user rating'].values\n",
        "ratings_number = movie_data['number of imdb user votes'].values/100000\n",
        "budget = movie_data['budget'].values\n",
        "y_ratings = torch.tensor(ratings, dtype=torch.float32)\n",
        "y_ratingsnumber = torch.tensor(ratings_number, dtype=torch.float32)\n",
        "print(ratings_number.shape)\n",
        "print(y_ratingsnumber.shape)\n",
        "X_tensor.shape"
      ],
      "metadata": {
        "id": "PAjuMKlfy2LD",
        "colab": {
          "base_uri": "https://localhost:8080/"
        },
        "outputId": "083998f0-efe5-4d9a-c85c-877b8f5f70e3"
      },
      "execution_count": 16,
      "outputs": [
        {
          "output_type": "stream",
          "name": "stdout",
          "text": [
            "(2858,)\n",
            "torch.Size([2858])\n"
          ]
        },
        {
          "output_type": "execute_result",
          "data": {
            "text/plain": [
              "torch.Size([2858, 1855])"
            ]
          },
          "metadata": {},
          "execution_count": 16
        }
      ]
    },
    {
      "cell_type": "markdown",
      "source": [
        "Split the combined validation + test set into validation and test sets"
      ],
      "metadata": {
        "id": "LKxm3qwd1oey"
      }
    },
    {
      "cell_type": "code",
      "source": [
        "X_train, X_temp, y_train_ratings, y_temp_ratings = train_test_split(\n",
        "    X_tensor, y_ratings, test_size=0.4, random_state=40)\n",
        "\n",
        "X_val, X_test, y_val_ratings, y_test_ratings = train_test_split(\n",
        "    X_temp, y_temp_ratings, test_size=0.5, random_state=40)"
      ],
      "metadata": {
        "id": "K0KD61SazPLj"
      },
      "execution_count": 17,
      "outputs": []
    },
    {
      "cell_type": "code",
      "source": [
        "import torch\n",
        "import torch.nn as nn\n",
        "\n",
        "class MovieSuccessPredictor(nn.Module):\n",
        "    def __init__(self, input_size):\n",
        "        super(MovieSuccessPredictor, self).__init__()\n",
        "        self.fc1 = nn.Linear(input_size, 256)\n",
        "        self.fc2 = nn.Linear(256, 128)\n",
        "        self.fc3 = nn.Linear(128, 64)\n",
        "        self.dropout = nn.Dropout(0.5)  # Reduced dropout rate\n",
        "        self.batch_norm1 = nn.BatchNorm1d(256)\n",
        "        self.batch_norm2 = nn.BatchNorm1d(128)\n",
        "        #self.batch_norm3 = nn.BatchNorm1d(64)\n",
        "\n",
        "        self.rating_output = nn.Linear(64, 1)\n",
        "\n",
        "    def forward(self, x):\n",
        "        x = torch.relu(self.fc1(x))\n",
        "        x = self.batch_norm1(x)\n",
        "        x = self.dropout(torch.relu(self.fc2(x)))\n",
        "        x = self.batch_norm2(x)\n",
        "        #x = torch.relu(self.fc3(x))\n",
        "        x = self.dropout(torch.relu(self.fc3(x)))  # Applied dropout after the third layer\n",
        "        #x = self.batch_norm3(x)\n",
        "        rating = self.rating_output(x)\n",
        "        rating = torch.clamp(rating, min=1, max=10)\n",
        "        return rating"
      ],
      "metadata": {
        "id": "FvVub6itz4Ec"
      },
      "execution_count": 18,
      "outputs": []
    },
    {
      "cell_type": "code",
      "source": [
        "input_size = X_train.shape[1]  # The number of features\n",
        "model = MovieSuccessPredictor(input_size)\n",
        "criterion = nn.MSELoss()  # MSE loss for regression tasks\n",
        "optimizer = Adam(model.parameters(), lr=0.01)  # Adam optimizer with learning rate 0.001"
      ],
      "metadata": {
        "id": "572EueT8z7Yz"
      },
      "execution_count": 19,
      "outputs": []
    },
    {
      "cell_type": "code",
      "source": [
        "import torch\n",
        "import torch.nn as nn\n",
        "import matplotlib.pyplot as plt\n",
        "\n",
        "# Number of epochs and batch size\n",
        "num_epochs = 300\n",
        "batch_size = 32\n",
        "\n",
        "train_losses = []\n",
        "val_losses = []\n",
        "train_mer = []\n",
        "val_mer = []\n",
        "\n",
        "# Early stopping parameters\n",
        "patience = 25\n",
        "best_val_loss = float('inf')\n",
        "epochs_without_improvement = 0\n",
        "\n",
        "# Training loop\n",
        "for epoch in range(num_epochs):\n",
        "    # Train phase\n",
        "    model.train()  # Set the model to training mode\n",
        "    running_train_loss = 0.0\n",
        "    running_train_mer = 0.0\n",
        "\n",
        "    for i in range(0, len(X_train), batch_size):\n",
        "        # Create mini-batches for training\n",
        "        X_batch = X_train[i:i + batch_size]\n",
        "        y_batch_ratings = y_train_ratings[i:i + batch_size]\n",
        "\n",
        "        optimizer.zero_grad()\n",
        "        # Forward pass\n",
        "        rating_pred = model(X_batch)\n",
        "\n",
        "        # Calculate the loss\n",
        "        loss_rating = criterion(rating_pred, y_batch_ratings.view(-1, 1))\n",
        "\n",
        "        # Backward pass (compute gradients)\n",
        "        loss_rating.backward()\n",
        "\n",
        "        # Update model parameters using the optimizer\n",
        "        optimizer.step()\n",
        "\n",
        "        # Track the training loss\n",
        "        running_train_loss += loss_rating.item()\n",
        "\n",
        "        # Calculate the Median Error Rate (MedER) for the current batch\n",
        "        abs_error = torch.abs(rating_pred.view(-1) - y_batch_ratings)\n",
        "        med_er = torch.median(abs_error)\n",
        "        running_train_mer += med_er.item()\n",
        "\n",
        "    # Calculate the average training loss and MedER for the epoch\n",
        "    avg_train_loss = running_train_loss / len(X_train)\n",
        "    avg_train_mer = running_train_mer / (len(X_train) / batch_size)\n",
        "\n",
        "    # Store values for plotting\n",
        "    train_losses.append(avg_train_loss)\n",
        "    train_mer.append(avg_train_mer)\n",
        "\n",
        "    # Validation phase\n",
        "    model.eval()\n",
        "    running_val_loss = 0.0\n",
        "    running_val_mer = 0.0\n",
        "\n",
        "    with torch.no_grad():  # No gradients for validation\n",
        "        for i in range(0, len(X_val), batch_size):\n",
        "            # Create mini-batches for validation\n",
        "            X_batch_val = X_val[i:i + batch_size]\n",
        "            y_batch_ratings_val = y_val_ratings[i:i + batch_size]\n",
        "\n",
        "            # Forward pass for validation\n",
        "            rating_pred_val = model(X_batch_val)\n",
        "\n",
        "            # Calculate the loss for validation\n",
        "            loss_rating_val = criterion(rating_pred_val, y_batch_ratings_val.view(-1, 1))\n",
        "\n",
        "            # Track the validation loss\n",
        "            running_val_loss += loss_rating_val.item()\n",
        "\n",
        "            # Calculate the Median Error Rate (MedER) for the validation batch\n",
        "            abs_error_val = torch.abs(rating_pred_val.view(-1) - y_batch_ratings_val)\n",
        "            med_er_val = torch.median(abs_error_val)\n",
        "            running_val_mer += med_er_val.item()\n",
        "\n",
        "    # Calculate the average validation loss and MedER\n",
        "    avg_val_loss = running_val_loss / len(X_val)\n",
        "    avg_val_mer = running_val_mer / (len(X_val) / batch_size)\n",
        "\n",
        "    # Store values for plotting\n",
        "    val_losses.append(avg_val_loss)\n",
        "    val_mer.append(avg_val_mer)\n",
        "\n",
        "    # Print the results for the current epoch\n",
        "    print(f\"Epoch [{epoch + 1}/{num_epochs}], Train Loss: {avg_train_loss:.4f}, Train MedER: {avg_train_mer:.4f}, \"\n",
        "          f\"Validation Loss: {avg_val_loss:.4f}, Validation MedER: {avg_val_mer:.4f}\")\n",
        "\n",
        "    # Early stopping check\n",
        "    if avg_val_loss < best_val_loss:\n",
        "        best_val_loss = avg_val_loss\n",
        "        epochs_without_improvement = 0\n",
        "    else:\n",
        "        epochs_without_improvement += 1\n",
        "\n",
        "    if epochs_without_improvement >= patience:\n",
        "        print(f\"Early stopping on epoch {epoch + 1}\")\n",
        "        break\n",
        "\n",
        "# Create a figure with two subplots for separate graphs\n",
        "fig, (ax1, ax2) = plt.subplots(2, 1, figsize=(10, 8))\n",
        "\n",
        "# Plot the train and validation loss\n",
        "ax1.set_xlabel('Epochs')\n",
        "ax1.set_ylabel('Loss', color='tab:blue')\n",
        "ax1.plot(range(1, len(train_losses) + 1), train_losses, color='tab:blue', label='Train Loss')\n",
        "ax1.plot(range(1, len(val_losses) + 1), val_losses, color='tab:orange', label='Validation Loss')\n",
        "ax1.tick_params(axis='y', labelcolor='tab:blue')\n",
        "ax1.legend(loc='upper right')\n",
        "ax1.set_title('Training and Validation Loss Over Epochs')\n",
        "ax1.set_ylim([0, 10])\n",
        "\n",
        "# Plot the train and validation MedER\n",
        "ax2.set_xlabel('Epochs')\n",
        "ax2.set_ylabel('MedER', color='tab:green')\n",
        "ax2.plot(range(1, len(train_mer) + 1), train_mer, color='tab:green', label='Train MedER')\n",
        "ax2.plot(range(1, len(val_mer) + 1), val_mer, color='tab:red', label='Validation MedER')\n",
        "ax2.tick_params(axis='y', labelcolor='tab:green')\n",
        "ax2.legend(loc='upper right')\n",
        "ax2.set_title('Training and Validation MedER Over Epochs')\n",
        "ax2.set_ylim([0, 10])\n",
        "# Adjust layout and display\n",
        "fig.tight_layout()\n",
        "plt.show()\n"
      ],
      "metadata": {
        "id": "ilNV_sM60Cuk",
        "colab": {
          "base_uri": "https://localhost:8080/",
          "height": 1000
        },
        "outputId": "2d1499cb-0b13-4d6e-cd9f-32505029d9cd"
      },
      "execution_count": 20,
      "outputs": [
        {
          "output_type": "stream",
          "name": "stdout",
          "text": [
            "Epoch [1/300], Train Loss: 0.3377, Train MedER: 2.4144, Validation Loss: 0.0956, Validation MedER: 0.7804\n",
            "Epoch [2/300], Train Loss: 0.1666, Train MedER: 1.3894, Validation Loss: 0.0838, Validation MedER: 0.8535\n",
            "Epoch [3/300], Train Loss: 0.1482, Train MedER: 1.3002, Validation Loss: 0.0843, Validation MedER: 0.8383\n",
            "Epoch [4/300], Train Loss: 0.1245, Train MedER: 1.1576, Validation Loss: 0.0828, Validation MedER: 0.7854\n",
            "Epoch [5/300], Train Loss: 0.1096, Train MedER: 1.0929, Validation Loss: 0.0746, Validation MedER: 0.8427\n",
            "Epoch [6/300], Train Loss: 0.1056, Train MedER: 1.0805, Validation Loss: 0.0800, Validation MedER: 0.8959\n",
            "Epoch [7/300], Train Loss: 0.0993, Train MedER: 1.0195, Validation Loss: 0.0763, Validation MedER: 0.7073\n",
            "Epoch [8/300], Train Loss: 0.0937, Train MedER: 1.0243, Validation Loss: 0.0774, Validation MedER: 0.8872\n",
            "Epoch [9/300], Train Loss: 0.0848, Train MedER: 0.9849, Validation Loss: 0.0782, Validation MedER: 0.7873\n",
            "Epoch [10/300], Train Loss: 0.0871, Train MedER: 0.9501, Validation Loss: 0.0713, Validation MedER: 0.7053\n",
            "Epoch [11/300], Train Loss: 0.0846, Train MedER: 0.9653, Validation Loss: 0.0823, Validation MedER: 0.9578\n",
            "Epoch [12/300], Train Loss: 0.0761, Train MedER: 0.8790, Validation Loss: 0.0758, Validation MedER: 0.7382\n",
            "Epoch [13/300], Train Loss: 0.0773, Train MedER: 0.8752, Validation Loss: 0.0726, Validation MedER: 0.7859\n",
            "Epoch [14/300], Train Loss: 0.0783, Train MedER: 0.9043, Validation Loss: 0.0735, Validation MedER: 0.7346\n",
            "Epoch [15/300], Train Loss: 0.0721, Train MedER: 0.8197, Validation Loss: 0.0748, Validation MedER: 0.7723\n",
            "Epoch [16/300], Train Loss: 0.0664, Train MedER: 0.8531, Validation Loss: 0.0671, Validation MedER: 0.6795\n",
            "Epoch [17/300], Train Loss: 0.0648, Train MedER: 0.8365, Validation Loss: 0.0718, Validation MedER: 0.7567\n",
            "Epoch [18/300], Train Loss: 0.0658, Train MedER: 0.8457, Validation Loss: 0.0781, Validation MedER: 0.8840\n",
            "Epoch [19/300], Train Loss: 0.0655, Train MedER: 0.8231, Validation Loss: 0.0732, Validation MedER: 0.7479\n",
            "Epoch [20/300], Train Loss: 0.0627, Train MedER: 0.7845, Validation Loss: 0.0709, Validation MedER: 0.6955\n",
            "Epoch [21/300], Train Loss: 0.0634, Train MedER: 0.7933, Validation Loss: 0.0658, Validation MedER: 0.6828\n",
            "Epoch [22/300], Train Loss: 0.0580, Train MedER: 0.7448, Validation Loss: 0.0744, Validation MedER: 0.7091\n",
            "Epoch [23/300], Train Loss: 0.0618, Train MedER: 0.7722, Validation Loss: 0.0678, Validation MedER: 0.6763\n",
            "Epoch [24/300], Train Loss: 0.0577, Train MedER: 0.7340, Validation Loss: 0.0703, Validation MedER: 0.7387\n",
            "Epoch [25/300], Train Loss: 0.0570, Train MedER: 0.7497, Validation Loss: 0.0675, Validation MedER: 0.6874\n",
            "Epoch [26/300], Train Loss: 0.0581, Train MedER: 0.7240, Validation Loss: 0.0707, Validation MedER: 0.7222\n",
            "Epoch [27/300], Train Loss: 0.0506, Train MedER: 0.7146, Validation Loss: 0.0686, Validation MedER: 0.6745\n",
            "Epoch [28/300], Train Loss: 0.0504, Train MedER: 0.7059, Validation Loss: 0.0783, Validation MedER: 0.6823\n",
            "Epoch [29/300], Train Loss: 0.0528, Train MedER: 0.6723, Validation Loss: 0.0761, Validation MedER: 0.7128\n",
            "Epoch [30/300], Train Loss: 0.0533, Train MedER: 0.6916, Validation Loss: 0.0852, Validation MedER: 0.7898\n",
            "Epoch [31/300], Train Loss: 0.0594, Train MedER: 0.7263, Validation Loss: 0.0818, Validation MedER: 0.7450\n",
            "Epoch [32/300], Train Loss: 0.0520, Train MedER: 0.6895, Validation Loss: 0.0790, Validation MedER: 0.7156\n",
            "Epoch [33/300], Train Loss: 0.0510, Train MedER: 0.6814, Validation Loss: 0.0895, Validation MedER: 0.6958\n",
            "Epoch [34/300], Train Loss: 0.0483, Train MedER: 0.6675, Validation Loss: 0.0841, Validation MedER: 0.7135\n",
            "Epoch [35/300], Train Loss: 0.0492, Train MedER: 0.6719, Validation Loss: 0.0823, Validation MedER: 0.7474\n",
            "Epoch [36/300], Train Loss: 0.0495, Train MedER: 0.6817, Validation Loss: 0.0790, Validation MedER: 0.7102\n",
            "Epoch [37/300], Train Loss: 0.0486, Train MedER: 0.6757, Validation Loss: 0.0766, Validation MedER: 0.7133\n",
            "Epoch [38/300], Train Loss: 0.0472, Train MedER: 0.6511, Validation Loss: 0.0946, Validation MedER: 0.7342\n",
            "Epoch [39/300], Train Loss: 0.0476, Train MedER: 0.6129, Validation Loss: 0.1044, Validation MedER: 0.7739\n",
            "Epoch [40/300], Train Loss: 0.0453, Train MedER: 0.6348, Validation Loss: 0.1043, Validation MedER: 0.7756\n",
            "Epoch [41/300], Train Loss: 0.0451, Train MedER: 0.6289, Validation Loss: 0.1006, Validation MedER: 0.7726\n",
            "Epoch [42/300], Train Loss: 0.0486, Train MedER: 0.6154, Validation Loss: 0.1042, Validation MedER: 0.7422\n",
            "Epoch [43/300], Train Loss: 0.0434, Train MedER: 0.6313, Validation Loss: 0.0884, Validation MedER: 0.7020\n",
            "Epoch [44/300], Train Loss: 0.0439, Train MedER: 0.6108, Validation Loss: 0.0923, Validation MedER: 0.7000\n",
            "Epoch [45/300], Train Loss: 0.0432, Train MedER: 0.6055, Validation Loss: 0.0805, Validation MedER: 0.7322\n",
            "Epoch [46/300], Train Loss: 0.0397, Train MedER: 0.5383, Validation Loss: 0.0885, Validation MedER: 0.7751\n",
            "Early stopping on epoch 46\n"
          ]
        },
        {
          "output_type": "display_data",
          "data": {
            "text/plain": [
              "<Figure size 1000x800 with 2 Axes>"
            ],
            "image/png": "[encoded data removed]"
          },
          "metadata": {}
        }
      ]
    },
    {
      "cell_type": "markdown",
      "source": [
        "# Evaluate the model on the test data"
      ],
      "metadata": {
        "id": "je0wm3q-1tMC"
      }
    },
    {
      "cell_type": "code",
      "source": [
        "\n",
        "model.eval()\n",
        "running_test_loss = 0.0\n",
        "total_samples = 0\n",
        "\n",
        "with torch.no_grad():\n",
        "    for i in range(0, len(X_test), batch_size):\n",
        "\n",
        "        X_batch = X_test[i:i+batch_size]\n",
        "        y_batch_ratings = y_test_ratings[i:i+batch_size]\n",
        "\n",
        "        # Forward pass\n",
        "        rating_pred = model(X_batch)\n",
        "\n",
        "        # Calculate the loss (only for IMDb rating)\n",
        "        loss_rating = criterion(rating_pred, y_batch_ratings.view(-1, 1))\n",
        "\n",
        "        # Track the test loss\n",
        "        running_test_loss += loss_rating.item()\n",
        "        total_samples += X_batch.size(0)\n",
        "\n",
        "# Print the average test loss\n",
        "average_test_loss = running_test_loss / total_samples\n",
        "print(f\"Test Loss: {average_test_loss:.4f}\")\n"
      ],
      "metadata": {
        "id": "-aMWj7al0Nqq",
        "colab": {
          "base_uri": "https://localhost:8080/"
        },
        "outputId": "c7c2a4a1-5107-4f3b-e82d-6b866e31c82d"
      },
      "execution_count": 21,
      "outputs": [
        {
          "output_type": "stream",
          "name": "stdout",
          "text": [
            "Test Loss: 0.1036\n"
          ]
        }
      ]
    },
    {
      "cell_type": "code",
      "source": [
        "import torch\n",
        "import numpy as np\n",
        "\n",
        "\n",
        "# New movie details\n",
        "new_movie = {\n",
        "    'plot': \"In a near-future Earth, interdimensional rifts threaten reality, caused by Nexus Prime, a cosmic entity seeking to merge all dimensions into one. A team of heroes from different universe  must unite to stop the collapse of the multiverse.\",\n",
        "    'keywords': \"superheroes, multiverse, teamwork, epic, avengers, betrayal\",\n",
        "    'producers': \"Kevin Feige, Sarah Halley Finn\",\n",
        "    'directors': \"Anthony Russo, Joe Russo\",\n",
        "    'casting directors': \"Lindsey Beer\",\n",
        "    'taglines': \"United they stand as Avengers Alliance, the ultimate battle begins.\",\n",
        "    'genres': \"Action, Sci-Fi, Superhero, Adventure, Thriller, Drama\",\n",
        "    'year': 2025\n",
        "}\n",
        "\n",
        "# Process the new movie features using Word2Vec and other preprocessors\n",
        "X_new_movie_vecs = np.hstack([\n",
        "    get_average_word2vec(new_movie['plot'], word2vec_model),\n",
        "    get_average_word2vec(new_movie['keywords'], word2vec_model),\n",
        "    get_average_word2vec(new_movie['producers'], word2vec_model),\n",
        "    get_average_word2vec(new_movie['directors'], word2vec_model),\n",
        "    get_average_word2vec(new_movie['casting directors'], word2vec_model),\n",
        "    get_average_word2vec(new_movie['taglines'], word2vec_model)\n",
        "])\n",
        "\n",
        "# Process categorical features (genres)\n",
        "X_new_movie_genres = mlb.transform([new_movie['genres'].split(',')])\n",
        "\n",
        "# Flatten the binary matrix returned by MultiLabelBinarizer\n",
        "X_new_movie_genres = X_new_movie_genres.flatten()\n",
        "\n",
        "# Process numerical features (year)\n",
        "X_new_movie_year = scaler.transform([[new_movie['year']]])\n",
        "\n",
        "# Combine all features into one feature vector\n",
        "X_new_movie_combined = np.hstack([X_new_movie_vecs, X_new_movie_genres, X_new_movie_year.flatten()])\n",
        "\n",
        "# Convert to PyTorch tensor and add batch dimension\n",
        "X_new_movie_tensor = torch.tensor(X_new_movie_combined, dtype=torch.float32).unsqueeze(0)\n",
        "\n",
        "# Make predictions using the trained model\n",
        "model.eval()  # Set the model to evaluation mode\n",
        "with torch.no_grad():  # No need to compute gradients for inference\n",
        "    rating_pred = model(X_new_movie_tensor)  # Only predicting IMDb rating now\n",
        "\n",
        "# Display the prediction for IMDb rating\n",
        "print(f\"Predicted IMDb Rating: {rating_pred.item():.2f}\")  # Rating should be between 1 and 10"
      ],
      "metadata": {
        "id": "zmkw7MXucabY",
        "colab": {
          "base_uri": "https://localhost:8080/"
        },
        "outputId": "6fe5271d-fad8-46ad-f818-d67ed569c4fb"
      },
      "execution_count": 22,
      "outputs": [
        {
          "output_type": "stream",
          "name": "stdout",
          "text": [
            "Predicted IMDb Rating: 7.04\n"
          ]
        },
        {
          "output_type": "stream",
          "name": "stderr",
          "text": [
            "/usr/local/lib/python3.10/dist-packages/sklearn/preprocessing/_label.py:900: UserWarning: unknown class(es) [' Superhero'] will be ignored\n",
            "  warnings.warn(\n",
            "/usr/local/lib/python3.10/dist-packages/sklearn/base.py:493: UserWarning: X does not have valid feature names, but StandardScaler was fitted with feature names\n",
            "  warnings.warn(\n"
          ]
        }
      ]
    },
    {
      "cell_type": "code",
      "source": [],
      "metadata": {
        "id": "Bpyv4LM0ca_v"
      },
      "execution_count": 22,
      "outputs": []
    }
  ]
}